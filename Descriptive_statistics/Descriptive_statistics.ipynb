{
  "nbformat": 4,
  "nbformat_minor": 0,
  "metadata": {
    "colab": {
      "provenance": []
    },
    "kernelspec": {
      "name": "python3",
      "display_name": "Python 3"
    },
    "language_info": {
      "name": "python"
    }
  },
  "cells": [
    {
      "cell_type": "markdown",
      "source": [
        "Create the user defined functions for the following\n",
        "1. Arithmetic mean"
      ],
      "metadata": {
        "id": "i8L-0A1ur5dq"
      }
    },
    {
      "cell_type": "code",
      "execution_count": 5,
      "metadata": {
        "id": "0tgLFVQiro45"
      },
      "outputs": [],
      "source": [
        "def arithmetic_mean(numbers):\n",
        "\n",
        "    total_sum = sum(numbers)\n",
        "\n",
        "    count = len(numbers)\n",
        "\n",
        "    mean = total_sum / count\n",
        "\n",
        "    return mean\n"
      ]
    },
    {
      "cell_type": "code",
      "source": [
        "data = [10, 20, 30, 40, 50,60]\n",
        "mean = arithmetic_mean(data)\n",
        "print(\"The arithmetic mean is:\", mean)\n"
      ],
      "metadata": {
        "colab": {
          "base_uri": "https://localhost:8080/"
        },
        "id": "9pVTUHF_sZ_q",
        "outputId": "6d3ae1f9-01e7-49fb-bade-738d134a4ae4"
      },
      "execution_count": 6,
      "outputs": [
        {
          "output_type": "stream",
          "name": "stdout",
          "text": [
            "The arithmetic mean is: 35.0\n"
          ]
        }
      ]
    },
    {
      "cell_type": "markdown",
      "source": [
        "2. Geometric mean"
      ],
      "metadata": {
        "id": "6no7eE9ykOVq"
      }
    },
    {
      "cell_type": "code",
      "source": [
        "def geometric_mean(numbers):\n",
        "\n",
        "    product = 1\n",
        "\n",
        "    count = len(numbers)\n",
        "\n",
        "    for num in numbers:\n",
        "\n",
        "        product *= num\n",
        "\n",
        "    g_mean = product ** (1 / count)\n",
        "    return g_mean\n"
      ],
      "metadata": {
        "id": "cPyhKQxpsZzw"
      },
      "execution_count": 2,
      "outputs": []
    },
    {
      "cell_type": "code",
      "source": [
        "data = [2, 8, 4, 16,32]\n",
        "g_mean = geometric_mean(data)\n",
        "print(\"The geometric mean is:\", g_mean)\n"
      ],
      "metadata": {
        "colab": {
          "base_uri": "https://localhost:8080/"
        },
        "id": "09PwFBAxsZd3",
        "outputId": "a6494ac1-2660-4e76-9af9-48954e4382ab"
      },
      "execution_count": 3,
      "outputs": [
        {
          "output_type": "stream",
          "name": "stdout",
          "text": [
            "The geometric mean is: 8.000000000000002\n"
          ]
        }
      ]
    },
    {
      "cell_type": "markdown",
      "source": [
        " 3. Harmonic mean"
      ],
      "metadata": {
        "id": "SwI6vsLro__R"
      }
    },
    {
      "cell_type": "code",
      "source": [
        "def harmonic_mean(numbers):\n",
        "\n",
        "    reciprocal_sum = sum(1 / num for num in numbers)\n",
        "\n",
        "    count = len(numbers)\n",
        "\n",
        "    h_mean = count / reciprocal_sum\n",
        "\n",
        "    return h_mean\n"
      ],
      "metadata": {
        "id": "RHPNDv52owkR"
      },
      "execution_count": 7,
      "outputs": []
    },
    {
      "cell_type": "code",
      "source": [
        "data = [1, 2, 4,6,8]\n",
        "h_mean = harmonic_mean(data)\n",
        "print(\"The harmonic mean is:\", h_mean)\n"
      ],
      "metadata": {
        "colab": {
          "base_uri": "https://localhost:8080/"
        },
        "id": "OTWHx8WZpfp2",
        "outputId": "66f17887-5e34-46cc-8892-c285228b3f71"
      },
      "execution_count": 9,
      "outputs": [
        {
          "output_type": "stream",
          "name": "stdout",
          "text": [
            "The harmonic mean is: 2.4489795918367343\n"
          ]
        }
      ]
    },
    {
      "cell_type": "markdown",
      "source": [
        "4. Range"
      ],
      "metadata": {
        "id": "wsxKnPJcp0Ty"
      }
    },
    {
      "cell_type": "code",
      "source": [
        "def range_of_numbers(numbers):\n",
        "\n",
        "    range= max(numbers) - min(numbers)\n",
        "\n",
        "    return range\n"
      ],
      "metadata": {
        "id": "VB9CQb46pqA5"
      },
      "execution_count": 10,
      "outputs": []
    },
    {
      "cell_type": "code",
      "source": [
        "data = [15,34,32,56,12,67]\n",
        "range = range_of_numbers(data)\n",
        "print(\"The range is:\", range)\n"
      ],
      "metadata": {
        "colab": {
          "base_uri": "https://localhost:8080/"
        },
        "id": "0OLKWzkKqCnK",
        "outputId": "058b9142-3424-42b5-a333-26e404f03e96"
      },
      "execution_count": 12,
      "outputs": [
        {
          "output_type": "stream",
          "name": "stdout",
          "text": [
            "The range is: 55\n"
          ]
        }
      ]
    },
    {
      "cell_type": "markdown",
      "source": [
        "5. Variance"
      ],
      "metadata": {
        "id": "AttH5l7XqoOy"
      }
    },
    {
      "cell_type": "code",
      "source": [
        "def variance(numbers):\n",
        "  mean = sum(numbers) / len(numbers)\n",
        "\n",
        "  squared = [(x - mean) ** 2 for x in numbers]\n",
        "\n",
        "  var = sum(squared) / len(numbers)\n",
        "\n",
        "  return var\n"
      ],
      "metadata": {
        "id": "c3giiYxpqGMu"
      },
      "execution_count": 19,
      "outputs": []
    },
    {
      "cell_type": "code",
      "source": [
        "data = [15, 17, 24, 22, 18, 25, 20, 19]\n",
        "\n",
        "\n",
        "variance_value = variance(data)\n",
        "\n",
        "print(\"The variance is:\", variance_value)\n"
      ],
      "metadata": {
        "colab": {
          "base_uri": "https://localhost:8080/"
        },
        "id": "8gHC5zKGq6wB",
        "outputId": "85ed7278-ffaa-4b00-922c-cd092c52fe8e"
      },
      "execution_count": 21,
      "outputs": [
        {
          "output_type": "stream",
          "name": "stdout",
          "text": [
            "The variance is: 10.5\n"
          ]
        }
      ]
    },
    {
      "cell_type": "markdown",
      "source": [
        "6.standard deviation"
      ],
      "metadata": {
        "id": "f2qxmBnRr750"
      }
    },
    {
      "cell_type": "code",
      "source": [
        "import math\n",
        "def standard_deviation(numbers):\n",
        "\n",
        "    mean = sum(numbers) / len(numbers)\n",
        "\n",
        "    squared = [(x - mean) ** 2 for x in numbers]\n",
        "\n",
        "    variance = sum(squared) / len(numbers)\n",
        "\n",
        "    std_dev = math.sqrt(variance)\n",
        "\n",
        "    return std_dev\n"
      ],
      "metadata": {
        "id": "7tPdNuygrcVi"
      },
      "execution_count": 26,
      "outputs": []
    },
    {
      "cell_type": "code",
      "source": [
        "data = [10, 12, 23, 23, 16, 23, 21, 16]\n",
        "std_dev_value = standard_deviation(data)\n",
        "print(\"The standard deviation is:\", std_dev_value)\n"
      ],
      "metadata": {
        "colab": {
          "base_uri": "https://localhost:8080/"
        },
        "id": "q3v8kPcvsq-G",
        "outputId": "53f0d144-84d3-4667-c808-10936fc4cc8c"
      },
      "execution_count": 27,
      "outputs": [
        {
          "output_type": "stream",
          "name": "stdout",
          "text": [
            "The standard deviation is: 4.898979485566356\n"
          ]
        }
      ]
    },
    {
      "cell_type": "code",
      "source": [],
      "metadata": {
        "id": "Ff4xNVRV1hzZ"
      },
      "execution_count": null,
      "outputs": []
    }
  ]
}