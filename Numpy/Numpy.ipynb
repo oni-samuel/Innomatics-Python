{
  "nbformat": 4,
  "nbformat_minor": 0,
  "metadata": {
    "colab": {
      "provenance": []
    },
    "kernelspec": {
      "name": "python3",
      "display_name": "Python 3"
    },
    "language_info": {
      "name": "python"
    }
  },
  "cells": [
    {
      "cell_type": "markdown",
      "source": [
        "QUESTION 1"
      ],
      "metadata": {
        "id": "xKbWEMqUDEaJ"
      }
    },
    {
      "cell_type": "markdown",
      "source": [
        "Numpy Final Assignment\n",
        "Solve the below problem by using only Numpy on the tip data set.\n",
        "\n",
        "What is the total bill value?\n",
        "\n"
      ],
      "metadata": {
        "id": "ytlpBkCET0-t"
      }
    },
    {
      "cell_type": "code",
      "source": [
        "import numpy as np"
      ],
      "metadata": {
        "id": "_Oi3cVrYaMNV"
      },
      "execution_count": 38,
      "outputs": []
    },
    {
      "cell_type": "code",
      "execution_count": 39,
      "metadata": {
        "colab": {
          "base_uri": "https://localhost:8080/"
        },
        "id": "hZG2vbVnSWTA",
        "outputId": "4a2a3bc9-dd0e-47b0-c7ed-a01a6bec5186"
      },
      "outputs": [
        {
          "output_type": "execute_result",
          "data": {
            "text/plain": [
              "array([[  0.  ,  16.99,   1.01, ...,   1.  ,   0.  ,   2.  ],\n",
              "       [  1.  ,  10.34,   1.66, ...,   1.  ,   0.  ,   3.  ],\n",
              "       [  2.  ,  21.01,   3.5 , ...,   1.  ,   0.  ,   3.  ],\n",
              "       ...,\n",
              "       [241.  ,  22.67,   2.  , ...,   0.  ,   0.  ,   2.  ],\n",
              "       [242.  ,  17.82,   1.75, ...,   0.  ,   0.  ,   2.  ],\n",
              "       [243.  ,  18.78,   3.  , ...,   2.  ,   0.  ,   2.  ]])"
            ]
          },
          "metadata": {},
          "execution_count": 39
        }
      ],
      "source": [
        "data = np.genfromtxt(r'/content/sample_data/tipsf.csv', delimiter=',', skip_header=1)\n",
        "data"
      ]
    },
    {
      "cell_type": "markdown",
      "source": [
        "What is the total bill value?"
      ],
      "metadata": {
        "id": "YlbPWDT0s1xB"
      }
    },
    {
      "cell_type": "code",
      "source": [
        "np.sum(data[:,1])"
      ],
      "metadata": {
        "colab": {
          "base_uri": "https://localhost:8080/"
        },
        "id": "8cbBHTSyaz5-",
        "outputId": "8af8b8a5-7fc6-4d46-8822-4a34b6823a27"
      },
      "execution_count": 40,
      "outputs": [
        {
          "output_type": "execute_result",
          "data": {
            "text/plain": [
              "4827.77"
            ]
          },
          "metadata": {},
          "execution_count": 40
        }
      ]
    },
    {
      "cell_type": "markdown",
      "source": [
        "What is the total tip value?"
      ],
      "metadata": {
        "id": "7CQ6DvSA4H_1"
      }
    },
    {
      "cell_type": "code",
      "source": [
        "np.sum(data[:,2])"
      ],
      "metadata": {
        "colab": {
          "base_uri": "https://localhost:8080/"
        },
        "id": "ohrfRqE5c5U0",
        "outputId": "a2f21026-182c-4327-8db0-4bc288c3a13f"
      },
      "execution_count": 41,
      "outputs": [
        {
          "output_type": "execute_result",
          "data": {
            "text/plain": [
              "731.5799999999999"
            ]
          },
          "metadata": {},
          "execution_count": 41
        }
      ]
    },
    {
      "cell_type": "markdown",
      "source": [
        "Count how many Sunday, Saturday, Thursday,friday,are there."
      ],
      "metadata": {
        "id": "mG4tKJ5o4ZTW"
      }
    },
    {
      "cell_type": "code",
      "source": [
        "np.unique(data[:,5], return_counts=True)"
      ],
      "metadata": {
        "colab": {
          "base_uri": "https://localhost:8080/"
        },
        "id": "R3g7lrt7dlO4",
        "outputId": "c455ccc6-f4db-4b4d-9c0d-3d6e02074389"
      },
      "execution_count": 42,
      "outputs": [
        {
          "output_type": "execute_result",
          "data": {
            "text/plain": [
              "(array([0., 1., 2., 3.]), array([87, 76, 62, 19]))"
            ]
          },
          "metadata": {},
          "execution_count": 42
        }
      ]
    },
    {
      "cell_type": "markdown",
      "source": [
        "How many smokers are there?"
      ],
      "metadata": {
        "id": "7MpA4PC-5Etw"
      }
    },
    {
      "cell_type": "code",
      "source": [
        "smokers=data[:,4]\n",
        "np.sum(smokers)"
      ],
      "metadata": {
        "colab": {
          "base_uri": "https://localhost:8080/"
        },
        "id": "B8SRfKkPfLad",
        "outputId": "6b262373-3113-402a-d3d6-00dd522f2aff"
      },
      "execution_count": 43,
      "outputs": [
        {
          "output_type": "execute_result",
          "data": {
            "text/plain": [
              "93.0"
            ]
          },
          "metadata": {},
          "execution_count": 43
        }
      ]
    },
    {
      "cell_type": "markdown",
      "source": [
        "What is the average tip given by females and males?"
      ],
      "metadata": {
        "id": "4ShwaEGC5chX"
      }
    },
    {
      "cell_type": "code",
      "source": [
        "tip = data[:, 2]\n",
        "sex = data[:, 3]\n",
        "\n",
        "male = np.mean(tip[sex == 0])\n",
        "female = np.mean(tip[sex == 1])\n",
        "\n",
        "print(\"Average tip given by males:\", male)\n",
        "print(\"Average tip given by females:\", female)"
      ],
      "metadata": {
        "colab": {
          "base_uri": "https://localhost:8080/"
        },
        "id": "S4kCqpsK5TDs",
        "outputId": "994e70b0-de3e-4cb6-a527-3bca5dac3638"
      },
      "execution_count": 44,
      "outputs": [
        {
          "output_type": "stream",
          "name": "stdout",
          "text": [
            "Average tip given by males: 2.8334482758620685\n",
            "Average tip given by females: 3.0896178343949043\n"
          ]
        }
      ]
    },
    {
      "cell_type": "markdown",
      "source": [
        " How many males and females are going for dinner and lunch"
      ],
      "metadata": {
        "id": "t8-1iNPa6IRu"
      }
    },
    {
      "cell_type": "code",
      "source": [
        "time = data[:,6]\n",
        "\n",
        "male_lunch_count = np.sum((sex == 0) & (time == 1))\n",
        "male_dinner_count = np.sum((sex == 0) & (time == 0))\n",
        "female_lunch_count = np.sum((sex == 1) & (time == 1))\n",
        "female_dinner_count = np.sum((sex == 1) & (time == 0))\n",
        "\n",
        "print(\"No of male lunch:\", male_lunch_count )\n",
        "print(\"No of female lunch:\",female_lunch_count)\n",
        "print(\"No of male Dinner:\", male_dinner_count )\n",
        "print(\"No of female Dinner:\",female_dinner_count)"
      ],
      "metadata": {
        "colab": {
          "base_uri": "https://localhost:8080/"
        },
        "id": "oHNu2m5D55tx",
        "outputId": "04a08b94-ce74-4a59-f20f-a73f52d49515"
      },
      "execution_count": 45,
      "outputs": [
        {
          "output_type": "stream",
          "name": "stdout",
          "text": [
            "No of male lunch: 35\n",
            "No of female lunch: 33\n",
            "No of male Dinner: 52\n",
            "No of female Dinner: 124\n"
          ]
        }
      ]
    },
    {
      "cell_type": "markdown",
      "source": [
        "What is the min and max tip given?"
      ],
      "metadata": {
        "id": "kt0Zz1VVpFXK"
      }
    },
    {
      "cell_type": "code",
      "source": [
        "print(\"Minimum tip : \",np.min(tip))\n",
        "print(\"Maximum tip : \",np.max(tip))"
      ],
      "metadata": {
        "id": "XpFzwsqaLud2",
        "colab": {
          "base_uri": "https://localhost:8080/"
        },
        "outputId": "d550663d-5e18-4f36-a59b-a27682c34608"
      },
      "execution_count": 46,
      "outputs": [
        {
          "output_type": "stream",
          "name": "stdout",
          "text": [
            "Minimum tip :  1.0\n",
            "Maximum tip :  10.0\n"
          ]
        }
      ]
    },
    {
      "cell_type": "markdown",
      "source": [
        "How much amount has been spent by female and male."
      ],
      "metadata": {
        "id": "CrFJIYwRq7X_"
      }
    },
    {
      "cell_type": "code",
      "source": [
        "total_bill= data[:,1]\n",
        "\n",
        "male = np.sum(total_bill[sex == 0])\n",
        "female = np.sum(total_bill[sex == 1])\n",
        "\n",
        "print('Total bill for male: ', male)\n",
        "print('Total bill for female:' , female)"
      ],
      "metadata": {
        "colab": {
          "base_uri": "https://localhost:8080/"
        },
        "id": "VJKEskSgrMuO",
        "outputId": "7acde03d-7edf-461d-84ba-dfcf2d10eb44"
      },
      "execution_count": 47,
      "outputs": [
        {
          "output_type": "stream",
          "name": "stdout",
          "text": [
            "Total bill for male:  1570.9499999999996\n",
            "Total bill for female: 3256.8199999999997\n"
          ]
        }
      ]
    },
    {
      "cell_type": "markdown",
      "source": [
        "Find out the AVG size."
      ],
      "metadata": {
        "id": "y1SabhGVsmOW"
      }
    },
    {
      "cell_type": "code",
      "source": [
        "np.mean(data[:,7])"
      ],
      "metadata": {
        "colab": {
          "base_uri": "https://localhost:8080/"
        },
        "id": "HTBCp24trmVL",
        "outputId": "de39ccbc-6123-4886-b7cd-6e1662ec64da"
      },
      "execution_count": 48,
      "outputs": [
        {
          "output_type": "execute_result",
          "data": {
            "text/plain": [
              "2.569672131147541"
            ]
          },
          "metadata": {},
          "execution_count": 48
        }
      ]
    },
    {
      "cell_type": "markdown",
      "source": [
        "Find out how many male,female smokers are there."
      ],
      "metadata": {
        "id": "5jazx1SDsxoN"
      }
    },
    {
      "cell_type": "code",
      "source": [
        "male_smokers= np.sum(smokers[(sex== 0) & (smokers== 1)])\n",
        "female_smokers= np.sum(smokers[(sex== 1) & (smokers== 1)])\n",
        "\n",
        "print('male_smokers:',male_smokers)\n",
        "print('female_smokers:',female_smokers)"
      ],
      "metadata": {
        "colab": {
          "base_uri": "https://localhost:8080/"
        },
        "id": "nlfo7dmvzSsE",
        "outputId": "3bd1046e-b43f-4b2d-dbaf-65f1376a3a06"
      },
      "execution_count": 49,
      "outputs": [
        {
          "output_type": "stream",
          "name": "stdout",
          "text": [
            "male_smokers: 33.0\n",
            "female_smokers: 60.0\n"
          ]
        }
      ]
    },
    {
      "cell_type": "code",
      "source": [],
      "metadata": {
        "id": "XxK_56kHzwX0"
      },
      "execution_count": 49,
      "outputs": []
    },
    {
      "cell_type": "markdown",
      "source": [
        "QUESTION 2"
      ],
      "metadata": {
        "id": "4-jFspTN1_DA"
      }
    },
    {
      "cell_type": "code",
      "source": [
        "data1 = np.genfromtxt('/content/sample_data/train_extended.csv', delimiter=',', skip_header=1)\n",
        "data1"
      ],
      "metadata": {
        "colab": {
          "base_uri": "https://localhost:8080/"
        },
        "id": "dRvk-yz43PGY",
        "outputId": "3f7a280e-a4e5-4a41-841c-d4ceb9d8fd15"
      },
      "execution_count": 50,
      "outputs": [
        {
          "output_type": "execute_result",
          "data": {
            "text/plain": [
              "array([[ 1.575     ,  1.225     ,  0.375     , ...,  6.3219385 ,\n",
              "         9.63883   , 10.        ],\n",
              "       [ 1.2375    ,  1.        ,  0.375     , ...,  3.798833  ,\n",
              "         7.654365  , 19.        ],\n",
              "       [ 1.45      ,  1.1625    ,  0.4125    , ...,  7.01650125,\n",
              "         7.257472  , 11.        ],\n",
              "       ...,\n",
              "       [ 1.125     ,  0.9125    ,  0.2875    , ...,  1.984465  ,\n",
              "         3.118445  ,  7.        ],\n",
              "       [ 1.625     ,  1.275     ,  0.4125    , ...,  7.86698625,\n",
              "        10.489315  , 11.        ],\n",
              "       [ 1.5875    ,  1.25      ,  0.3875    , ...,  7.38504475,\n",
              "         8.788345  , 11.        ]])"
            ]
          },
          "metadata": {},
          "execution_count": 50
        }
      ]
    },
    {
      "cell_type": "markdown",
      "source": [
        "What is the maximum and minimum length?"
      ],
      "metadata": {
        "id": "S-IyF2vM2H5X"
      }
    },
    {
      "cell_type": "code",
      "source": [
        "length= data1[:,1]\n",
        "minimum_length = np.min(length)\n",
        "maximum_length = np.max(length)"
      ],
      "metadata": {
        "id": "eoC7K12f17v6"
      },
      "execution_count": 51,
      "outputs": []
    },
    {
      "cell_type": "code",
      "source": [
        "print('Minimum length: ', minimum_length)\n",
        "print('Maximum length:', maximum_length)"
      ],
      "metadata": {
        "colab": {
          "base_uri": "https://localhost:8080/"
        },
        "id": "-YT_ovD44_GX",
        "outputId": "e94de519-1d5a-4e57-9656-12eeb991e4d4"
      },
      "execution_count": 52,
      "outputs": [
        {
          "output_type": "stream",
          "name": "stdout",
          "text": [
            "Minimum length:  0.0\n",
            "Maximum length: 2.25\n"
          ]
        }
      ]
    },
    {
      "cell_type": "markdown",
      "source": [
        "Find out the difference between maximum and minimum length"
      ],
      "metadata": {
        "id": "cPE7npuu589f"
      }
    },
    {
      "cell_type": "code",
      "source": [
        "range= maximum_length - minimum_length\n",
        "print(range)"
      ],
      "metadata": {
        "colab": {
          "base_uri": "https://localhost:8080/"
        },
        "id": "_O0dUy-J5D6v",
        "outputId": "53552a49-d456-4313-bc33-a6e06e4d1177"
      },
      "execution_count": 53,
      "outputs": [
        {
          "output_type": "stream",
          "name": "stdout",
          "text": [
            "2.25\n"
          ]
        }
      ]
    },
    {
      "cell_type": "markdown",
      "source": [
        "Find column-wise average"
      ],
      "metadata": {
        "id": "siW-pk8L60yq"
      }
    },
    {
      "cell_type": "code",
      "source": [
        "np.mean(data1, axis=0)"
      ],
      "metadata": {
        "colab": {
          "base_uri": "https://localhost:8080/"
        },
        "id": "uWH-62Jf6pRV",
        "outputId": "891fcab6-f0a0-4da7-c153-4fefa0ecec01"
      },
      "execution_count": 54,
      "outputs": [
        {
          "output_type": "execute_result",
          "data": {
            "text/plain": [
              "array([ 1.31244808,  1.02032036,  0.34602787, 23.12343631,  9.98937025,\n",
              "        4.99318096,  6.63422915,  9.950615  ])"
            ]
          },
          "metadata": {},
          "execution_count": 54
        }
      ]
    },
    {
      "cell_type": "markdown",
      "source": [
        "Find out all the age whose height is greater than 0.4."
      ],
      "metadata": {
        "id": "KoHi3d1k7s1M"
      }
    },
    {
      "cell_type": "code",
      "source": [
        "age=data1[:,7]\n",
        "\n",
        "height=data1[:,2]\n",
        "\n",
        "greater_age=age[height>0.4]\n",
        "\n",
        "print(\"Ages where height is greater than 0.4:\", greater_age)\n",
        "print('Numbers of ages:', len(greater_age))"
      ],
      "metadata": {
        "colab": {
          "base_uri": "https://localhost:8080/"
        },
        "id": "Sr5MDb1W7GVh",
        "outputId": "f7032e9f-8879-4293-915e-a2cbbc973d72"
      },
      "execution_count": 55,
      "outputs": [
        {
          "output_type": "stream",
          "name": "stdout",
          "text": [
            "Ages where height is greater than 0.4: [11. 14. 13. ... 11. 11. 11.]\n",
            "Numbers of ages: 55336\n"
          ]
        }
      ]
    },
    {
      "cell_type": "markdown",
      "source": [
        "What is the average height and weight of the person whose age is 10?"
      ],
      "metadata": {
        "id": "SUpEyt1W96Iv"
      }
    },
    {
      "cell_type": "code",
      "source": [
        "weight=data1[:,3]\n",
        "\n",
        "average_height = np.mean(height[age == 10])\n",
        "average_weight = np.mean(weight[age == 10])\n",
        "\n",
        "\n",
        "print(\"Average height of people whose age is 10:\", average_height)\n",
        "print(\"Average weight of people whose age is 10:\", average_weight)"
      ],
      "metadata": {
        "colab": {
          "base_uri": "https://localhost:8080/"
        },
        "id": "Oy-wcbjX95Zd",
        "outputId": "c4e000ff-1019-4acf-872e-d8085d108c75"
      },
      "execution_count": 56,
      "outputs": [
        {
          "output_type": "stream",
          "name": "stdout",
          "text": [
            "Average height of people whose age is 10: 0.3833672856539947\n",
            "Average weight of people whose age is 10: 28.243308450511314\n"
          ]
        }
      ]
    },
    {
      "cell_type": "markdown",
      "source": [
        "What is the total shell weight."
      ],
      "metadata": {
        "id": "_JZh_WQB_Syz"
      }
    },
    {
      "cell_type": "code",
      "source": [
        "np.sum(weight)\n"
      ],
      "metadata": {
        "colab": {
          "base_uri": "https://localhost:8080/"
        },
        "id": "6VRrKj9w77ko",
        "outputId": "cfea0e56-2ec5-4a73-af0c-a41495c9c3c3"
      },
      "execution_count": 57,
      "outputs": [
        {
          "output_type": "execute_result",
          "data": {
            "text/plain": [
              "4624687.262596481"
            ]
          },
          "metadata": {},
          "execution_count": 57
        }
      ]
    },
    {
      "cell_type": "markdown",
      "source": [
        "How many persons belong to each and every unique age."
      ],
      "metadata": {
        "id": "eehOSd6I_hRW"
      }
    },
    {
      "cell_type": "code",
      "source": [
        "np.unique(age, return_counts=True)"
      ],
      "metadata": {
        "colab": {
          "base_uri": "https://localhost:8080/"
        },
        "id": "Qn8Ec-v49bDs",
        "outputId": "a1a3613f-8f80-408b-b09c-46a7487a3be7"
      },
      "execution_count": 58,
      "outputs": [
        {
          "output_type": "execute_result",
          "data": {
            "text/plain": [
              "(array([ 1.,  2.,  3.,  4.,  5.,  6.,  7.,  8.,  9., 10., 11., 12., 13.,\n",
              "        14., 15., 16., 17., 18., 19., 20., 21., 22., 23., 24., 25., 26.,\n",
              "        27., 29.]),\n",
              " array([   46,    42,   625,  2787,  5475, 12450, 18276, 26818, 32906,\n",
              "        30803, 23457, 12717, 10037,  6352,  4831,  3191,  2705,  1953,\n",
              "         1591,  1206,   721,   296,   352,   110,    51,    46,    99,\n",
              "           57]))"
            ]
          },
          "metadata": {},
          "execution_count": 58
        }
      ]
    },
    {
      "cell_type": "markdown",
      "source": [
        "\n",
        "What is the difference between shucked weight and visua weight .\n"
      ],
      "metadata": {
        "id": "XL6Tc_GyAXzS"
      }
    },
    {
      "cell_type": "code",
      "source": [
        "shucked_weight = data1[:,4]\n",
        "\n",
        "viscera_weight = data1[:,5]\n",
        "\n",
        "difference = shucked_weight - viscera_weight\n",
        "\n",
        "\n",
        "print(\"Difference between shucked weight and viscera weight:\\n\", difference)\n"
      ],
      "metadata": {
        "colab": {
          "base_uri": "https://localhost:8080/"
        },
        "id": "S3Xmjs8JAXax",
        "outputId": "07025573-d90e-47e9-b0f2-9251b1605f37"
      },
      "execution_count": 59,
      "outputs": [
        {
          "output_type": "stream",
          "name": "stdout",
          "text": [
            "Difference between shucked weight and viscera weight:\n",
            " [5.9817445 3.855532  4.1106775 ... 2.9199985 5.329706  9.8372765]\n"
          ]
        }
      ]
    },
    {
      "cell_type": "markdown",
      "source": [
        "What is the average height of the persons whose age is between 14 and 19."
      ],
      "metadata": {
        "id": "kHlDbQa-Bt74"
      }
    },
    {
      "cell_type": "code",
      "source": [
        "average_height = np.mean(height[(age >= 14) & (age <= 19)])\n",
        "\n",
        "print(\"Average height:\", average_height)"
      ],
      "metadata": {
        "colab": {
          "base_uri": "https://localhost:8080/"
        },
        "id": "iIWuHedq9f8r",
        "outputId": "da1834c3-944b-4b5f-c9e7-82b017f4a979"
      },
      "execution_count": 60,
      "outputs": [
        {
          "output_type": "stream",
          "name": "stdout",
          "text": [
            "Average height: 0.41489902051107985\n"
          ]
        }
      ]
    },
    {
      "cell_type": "markdown",
      "source": [
        "What is the average weight if we include viscous and shell weight?"
      ],
      "metadata": {
        "id": "Pyeus5FQCY4q"
      }
    },
    {
      "cell_type": "code",
      "source": [
        "shell_weight = data1[:, 6]\n",
        "\n",
        "total_weight = shell_weight + viscera_weight\n",
        "\n",
        "average_weight = np.mean(total_weight)\n",
        "\n",
        "print(\"Average weight (viscera and shell weight):\", average_weight)"
      ],
      "metadata": {
        "colab": {
          "base_uri": "https://localhost:8080/"
        },
        "id": "Zd6QqCblCLGG",
        "outputId": "1384d926-378d-4153-e570-7fb48fdac697"
      },
      "execution_count": 61,
      "outputs": [
        {
          "output_type": "stream",
          "name": "stdout",
          "text": [
            "Average weight (viscera and shell weight): 11.62741010435575\n"
          ]
        }
      ]
    },
    {
      "cell_type": "markdown",
      "source": [
        "QUESTION 3\n",
        "\n",
        " Solve the below problem by using only numpy functions on the below-given dataset.\n",
        "\n"
      ],
      "metadata": {
        "id": "4q6NKix7DShl"
      }
    },
    {
      "cell_type": "markdown",
      "source": [
        "\n",
        "Calculate the average length of all the seashells (Abalone)?"
      ],
      "metadata": {
        "id": "SyUJ2h2rDg_H"
      }
    },
    {
      "cell_type": "code",
      "source": [
        "data2 = np.genfromtxt('/content/sample_data/Abelone - abalone_data.csv', delimiter=',', skip_header=1)\n",
        "data2\n"
      ],
      "metadata": {
        "id": "1Iap7oJVC5AT",
        "colab": {
          "base_uri": "https://localhost:8080/"
        },
        "outputId": "d2e980d4-9c25-4264-97bf-a2ec75c0e1cd"
      },
      "execution_count": 62,
      "outputs": [
        {
          "output_type": "execute_result",
          "data": {
            "text/plain": [
              "array([[ nan,  91.,  73., ...,  20.,  30.,  15.],\n",
              "       [ nan,  70.,  53., ...,  10.,  14.,   7.],\n",
              "       [ nan, 106.,  84., ...,  28.,  42.,   9.],\n",
              "       ...,\n",
              "       [ nan, 120.,  95., ...,  58.,  62.,   9.],\n",
              "       [ nan, 125.,  97., ...,  52.,  59.,  10.],\n",
              "       [ nan, 142., 111., ...,  75.,  99.,  12.]])"
            ]
          },
          "metadata": {},
          "execution_count": 62
        }
      ]
    },
    {
      "cell_type": "markdown",
      "source": [
        "Calculate the average length of all the seashells (Abalone)?"
      ],
      "metadata": {
        "id": "I7QGbj-vXIf5"
      }
    },
    {
      "cell_type": "code",
      "source": [
        "lengths= data2[:,1]\n",
        "\n",
        "average_length = np.mean(lengths)\n",
        "\n",
        "print(\"The average length is:\", average_length)"
      ],
      "metadata": {
        "colab": {
          "base_uri": "https://localhost:8080/"
        },
        "id": "nZJIjTwDWQO8",
        "outputId": "889fcf5f-90d5-4d21-8758-aa681ef1f6b6"
      },
      "execution_count": 63,
      "outputs": [
        {
          "output_type": "stream",
          "name": "stdout",
          "text": [
            "The average length is: 104.79841991860187\n"
          ]
        }
      ]
    },
    {
      "cell_type": "markdown",
      "source": [
        "Calculate the minimum and maximum age in the available data?"
      ],
      "metadata": {
        "id": "N7aqwQ2Iack3"
      }
    },
    {
      "cell_type": "code",
      "source": [
        "ages = data2[:,8]\n",
        "\n",
        "min_age = np.min(ages)\n",
        "max_age = np.max(ages)\n",
        "\n",
        "print(\"The minimum age is:\",min_age)\n",
        "print(\"The maximum age is: \",max_age)\n"
      ],
      "metadata": {
        "colab": {
          "base_uri": "https://localhost:8080/"
        },
        "id": "LjMYVp_QXJYE",
        "outputId": "299aba42-e9e2-4a25-f4ce-78fc86eeea60"
      },
      "execution_count": 64,
      "outputs": [
        {
          "output_type": "stream",
          "name": "stdout",
          "text": [
            "The minimum age is: 1.0\n",
            "The maximum age is:  29.0\n"
          ]
        }
      ]
    },
    {
      "cell_type": "markdown",
      "source": [
        "Calculate the mean of meat-weight, gut weight, and dried-shell-weight combined?"
      ],
      "metadata": {
        "id": "KOiSyXs7bB-z"
      }
    },
    {
      "cell_type": "code",
      "source": [
        "meat_weight = data2[:,5]\n",
        "\n",
        "gut_weight = data2[:,6]\n",
        "\n",
        "dried_shell_weight = data2[:,7]\n",
        "\n",
        "\n",
        "total_weights = meat_weight + gut_weight + dried_shell_weight\n",
        "\n",
        "\n",
        "mean = np.mean(total_weights)\n",
        "\n",
        "print(\"The mean is:\", mean)"
      ],
      "metadata": {
        "colab": {
          "base_uri": "https://localhost:8080/"
        },
        "id": "bHfRf6kja-kB",
        "outputId": "c5709555-166d-436f-9f25-07d2e6f0f209"
      },
      "execution_count": 65,
      "outputs": [
        {
          "output_type": "stream",
          "name": "stdout",
          "text": [
            "The mean is: 155.87072061288006\n"
          ]
        }
      ]
    },
    {
      "cell_type": "markdown",
      "source": [
        "For all Abalones with age between [10 and 16) calculate the average of whole weight"
      ],
      "metadata": {
        "id": "bMYG3C5sb495"
      }
    },
    {
      "cell_type": "code",
      "source": [
        "whole_weight = data2[:,4]\n",
        "\n",
        "weights = whole_weight[ (ages >= 10) & (ages < 16)]\n",
        "\n",
        "average_weight = np.mean(weights)\n",
        "\n",
        "print(\"The average whole weight is: \", average_weight)\n"
      ],
      "metadata": {
        "colab": {
          "base_uri": "https://localhost:8080/"
        },
        "id": "joLmVlVyb4Vg",
        "outputId": "7619c80f-bba5-4ddd-dd48-a034bd345147"
      },
      "execution_count": 66,
      "outputs": [
        {
          "output_type": "stream",
          "name": "stdout",
          "text": [
            "The average whole weight is:  214.54725274725274\n"
          ]
        }
      ]
    },
    {
      "cell_type": "markdown",
      "source": [
        "Create and add a new column that contains the ratio of the \"dried-shell-weight\" to that of \"whole-weight\" (dried-shell-weight / whole-weight)?"
      ],
      "metadata": {
        "id": "Z5WKCo-ncyGx"
      }
    },
    {
      "cell_type": "code",
      "source": [
        "ratio= dried_shell_weight / whole_weight\n",
        "\n",
        "ratio= ratio.reshape(-1, 1)\n",
        "\n",
        "result = np.concatenate((data2, ratio), axis=1)\n",
        "print(result)\n"
      ],
      "metadata": {
        "colab": {
          "base_uri": "https://localhost:8080/"
        },
        "id": "YkblL_fsakfv",
        "outputId": "fb41f6ee-8c8e-467f-e9cf-7f9050361393"
      },
      "execution_count": 67,
      "outputs": [
        {
          "output_type": "stream",
          "name": "stdout",
          "text": [
            "[[         nan  91.          73.         ...  30.          15.\n",
            "    0.29126214]\n",
            " [         nan  70.          53.         ...  14.           7.\n",
            "    0.31111111]\n",
            " [         nan 106.          84.         ...  42.           9.\n",
            "    0.31111111]\n",
            " ...\n",
            " [         nan 120.          95.         ...  62.           9.\n",
            "    0.26382979]\n",
            " [         nan 125.          97.         ...  59.          10.\n",
            "    0.26940639]\n",
            " [         nan 142.         111.         ...  99.          12.\n",
            "    0.25384615]]\n"
          ]
        },
        {
          "output_type": "stream",
          "name": "stderr",
          "text": [
            "<ipython-input-67-f893bf7c7ae2>:1: RuntimeWarning: invalid value encountered in divide\n",
            "  ratio= dried_shell_weight / whole_weight\n"
          ]
        }
      ]
    },
    {
      "cell_type": "markdown",
      "source": [
        "Which Abelone Age has the highest average diameter?"
      ],
      "metadata": {
        "id": "lHHxp1YtgH58"
      }
    },
    {
      "cell_type": "code",
      "source": [
        "diameters= data2[:,2]\n",
        "\n",
        "unique_ages = np.unique(ages)\n",
        "\n",
        "avg_diameter = []\n",
        "for age in unique_ages:\n",
        "    avg_diameter.append(np.mean(diameters[ages == age]))\n",
        "\n",
        "\n",
        "max_avg_diameter = np.max(avg_diameter)\n",
        "max_age= unique_ages[np.argmax(avg_diameter)]\n",
        "\n",
        "print(\"The age with the highest average diameter is: {}, with an average diameter of {}\".format(max_age,max_avg_diameter))\n"
      ],
      "metadata": {
        "colab": {
          "base_uri": "https://localhost:8080/"
        },
        "id": "2w3p5s8seQf4",
        "outputId": "8bf6b3f0-4dba-4ef1-9f8e-467df8e6cb78"
      },
      "execution_count": 68,
      "outputs": [
        {
          "output_type": "stream",
          "name": "stdout",
          "text": [
            "The age with the highest average diameter is: 29.0, with an average diameter of 117.0\n"
          ]
        }
      ]
    },
    {
      "cell_type": "code",
      "source": [],
      "metadata": {
        "id": "cGJSWocNfKzN"
      },
      "execution_count": 68,
      "outputs": []
    }
  ]
}