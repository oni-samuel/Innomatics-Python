{
  "nbformat": 4,
  "nbformat_minor": 0,
  "metadata": {
    "colab": {
      "provenance": []
    },
    "kernelspec": {
      "name": "python3",
      "display_name": "Python 3"
    },
    "language_info": {
      "name": "python"
    }
  },
  "cells": [
    {
      "cell_type": "markdown",
      "source": [
        "\n",
        "Write a function called \"add_numbers\" that takes two integers as input and returns their sum."
      ],
      "metadata": {
        "id": "IMK2QmVCkSsn"
      }
    },
    {
      "cell_type": "code",
      "execution_count": 36,
      "metadata": {
        "id": "KXDYGCzUEH55"
      },
      "outputs": [],
      "source": [
        "def add_numbers(x, y):\n",
        "  return x + y"
      ]
    },
    {
      "cell_type": "code",
      "source": [
        "add_numbers(1,2)"
      ],
      "metadata": {
        "colab": {
          "base_uri": "https://localhost:8080/"
        },
        "id": "gucAHelJkbm8",
        "outputId": "00532cd0-b553-43ef-8719-6f4609e22c95"
      },
      "execution_count": 37,
      "outputs": [
        {
          "output_type": "execute_result",
          "data": {
            "text/plain": [
              "3"
            ]
          },
          "metadata": {},
          "execution_count": 37
        }
      ]
    },
    {
      "cell_type": "markdown",
      "source": [
        "Write a function called \"multiply_numbers\" that takes two integers as input and returns their product."
      ],
      "metadata": {
        "id": "c31X3OGJlJEX"
      }
    },
    {
      "cell_type": "code",
      "source": [
        "def multiply_numbers(x, y):\n",
        "  return x * y"
      ],
      "metadata": {
        "id": "HQx9jxrmkiRj"
      },
      "execution_count": 38,
      "outputs": []
    },
    {
      "cell_type": "code",
      "source": [
        "multiply_numbers(1, 8)"
      ],
      "metadata": {
        "colab": {
          "base_uri": "https://localhost:8080/"
        },
        "id": "oci2dnMKlmrh",
        "outputId": "6346834c-3279-42f7-a3df-d47c8858227c"
      },
      "execution_count": 39,
      "outputs": [
        {
          "output_type": "execute_result",
          "data": {
            "text/plain": [
              "8"
            ]
          },
          "metadata": {},
          "execution_count": 39
        }
      ]
    },
    {
      "cell_type": "markdown",
      "source": [
        "Write a function called \"calculate_average\" that takes a list of numbers as input and returns the average of those numbers."
      ],
      "metadata": {
        "id": "AgiHfLTil0WF"
      }
    },
    {
      "cell_type": "code",
      "source": [
        "def calculate_average(numbers):\n",
        "  return sum(numbers) / len(numbers)"
      ],
      "metadata": {
        "id": "HHps8BMOlspo"
      },
      "execution_count": 40,
      "outputs": []
    },
    {
      "cell_type": "code",
      "source": [
        "calculate_average([2, 4, 8, 4])"
      ],
      "metadata": {
        "colab": {
          "base_uri": "https://localhost:8080/"
        },
        "id": "KmuRsVVxmch3",
        "outputId": "86a37b90-2624-4ff9-b34b-2eb650869baf"
      },
      "execution_count": 41,
      "outputs": [
        {
          "output_type": "execute_result",
          "data": {
            "text/plain": [
              "4.5"
            ]
          },
          "metadata": {},
          "execution_count": 41
        }
      ]
    },
    {
      "cell_type": "markdown",
      "source": [
        "Write a function called \"is_even\" that takes an integer as input and returns True if the number is even, and False otherwise."
      ],
      "metadata": {
        "id": "CysIK6LBmypZ"
      }
    },
    {
      "cell_type": "code",
      "source": [
        "def is_even(number):\n",
        "  return number % 2 == 0"
      ],
      "metadata": {
        "id": "DLaBY7fomhQr"
      },
      "execution_count": 42,
      "outputs": []
    },
    {
      "cell_type": "code",
      "source": [
        "is_even(44)"
      ],
      "metadata": {
        "colab": {
          "base_uri": "https://localhost:8080/"
        },
        "id": "fGwjlUKnm5iM",
        "outputId": "774b2778-840c-4560-8957-1e70506af72d"
      },
      "execution_count": 43,
      "outputs": [
        {
          "output_type": "execute_result",
          "data": {
            "text/plain": [
              "True"
            ]
          },
          "metadata": {},
          "execution_count": 43
        }
      ]
    },
    {
      "cell_type": "markdown",
      "source": [
        "Write a function called \"reverse_string\" that takes a string as input and returns the reverse of that string."
      ],
      "metadata": {
        "id": "iyP273J5nC_0"
      }
    },
    {
      "cell_type": "code",
      "source": [
        "def reverse_string(string):\n",
        "  return string[::-1]"
      ],
      "metadata": {
        "id": "UHuwSlkLm8_9"
      },
      "execution_count": 44,
      "outputs": []
    },
    {
      "cell_type": "code",
      "source": [
        "reverse_string(\"reversestring\")"
      ],
      "metadata": {
        "colab": {
          "base_uri": "https://localhost:8080/",
          "height": 35
        },
        "id": "gZvf3NJAszv3",
        "outputId": "25b37899-5ac9-4b88-f3d1-19a5c84b4db5"
      },
      "execution_count": 45,
      "outputs": [
        {
          "output_type": "execute_result",
          "data": {
            "text/plain": [
              "'gnirtsesrever'"
            ],
            "application/vnd.google.colaboratory.intrinsic+json": {
              "type": "string"
            }
          },
          "metadata": {},
          "execution_count": 45
        }
      ]
    },
    {
      "cell_type": "code",
      "source": [],
      "metadata": {
        "id": "cGKmXVKdtU2Y"
      },
      "execution_count": null,
      "outputs": []
    }
  ]
}