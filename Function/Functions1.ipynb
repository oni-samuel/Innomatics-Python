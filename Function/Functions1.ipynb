{
  "nbformat": 4,
  "nbformat_minor": 0,
  "metadata": {
    "colab": {
      "provenance": []
    },
    "kernelspec": {
      "name": "python3",
      "display_name": "Python 3"
    },
    "language_info": {
      "name": "python"
    }
  },
  "cells": [
    {
      "cell_type": "markdown",
      "source": [
        "Write a Python function to find the maximum of three numbers.\n",
        "Write a Python function to sum all the numbers in a list.\n"
      ],
      "metadata": {
        "id": "_R8wHdQQ5SAu"
      }
    },
    {
      "cell_type": "code",
      "execution_count": 43,
      "metadata": {
        "id": "gJ9_TOiL45KN"
      },
      "outputs": [],
      "source": [
        "def max_number(x1,x2,x3):\n",
        "  if x1 > x2 and x1 > x3:\n",
        "    return x1\n",
        "  elif x2 > x1 and x2 > x3:\n",
        "    return x2\n",
        "  else:\n",
        "    return x3\n"
      ]
    },
    {
      "cell_type": "code",
      "source": [
        "a=int(input('Enter the first number: '))\n",
        "b=int(input('Enter the second number: '))\n",
        "c=int(input('Enter the third number: '))\n",
        "\n",
        "result = max_number(a, b, c)\n",
        "print(\"The maximum number is: {}\".format(result))\n"
      ],
      "metadata": {
        "colab": {
          "base_uri": "https://localhost:8080/"
        },
        "id": "imNj-35p8uw2",
        "outputId": "fb78af47-83ac-47b4-9c44-b55c6ca535de"
      },
      "execution_count": 44,
      "outputs": [
        {
          "output_type": "stream",
          "name": "stdout",
          "text": [
            "Enter the first number: 2\n",
            "Enter the second number: 5\n",
            "Enter the third number: 6\n",
            "The maximum number is: 6\n"
          ]
        }
      ]
    },
    {
      "cell_type": "markdown",
      "source": [
        "II Write a Python function to sum all the numbers in a list.\n",
        "4"
      ],
      "metadata": {
        "id": "N-6bhqLZ_FAl"
      }
    },
    {
      "cell_type": "code",
      "source": [
        "def sum_numbers(x):\n",
        "  sum=0\n",
        "  for i in x:\n",
        "    sum=sum+i\n",
        "  return sum"
      ],
      "metadata": {
        "id": "PwnzYb019v9v"
      },
      "execution_count": 8,
      "outputs": []
    },
    {
      "cell_type": "code",
      "source": [
        "num=int(input('how many numbers do you want to sum: '))\n",
        "number_list=[]\n",
        "x=0\n",
        "while x<num:\n",
        "  numbers=int(input('Enter the numbers: '))\n",
        "  number_list.append(numbers)\n",
        "  x=x+1\n",
        "sum=sum_numbers(number_list)\n",
        "print(\"sum of all numbers in a list is:\",sum)"
      ],
      "metadata": {
        "colab": {
          "base_uri": "https://localhost:8080/"
        },
        "id": "PTYOw3T3ALN7",
        "outputId": "a1819287-11f0-4941-e968-9768aa435ffd"
      },
      "execution_count": 15,
      "outputs": [
        {
          "output_type": "stream",
          "name": "stdout",
          "text": [
            "how many numbers do you want to sum: 2\n",
            "Enter the numbers: 1\n",
            "Enter the numbers: 2\n",
            "sum of all numbers in a list is: 3\n"
          ]
        }
      ]
    },
    {
      "cell_type": "markdown",
      "source": [
        "Write a Python function to check whether a number falls within a given range.\n",
        "\n"
      ],
      "metadata": {
        "id": "YSEJf36GEF0J"
      }
    },
    {
      "cell_type": "code",
      "source": [
        "def num_range(number,x,y):\n",
        "    if x<=number<=y:\n",
        "        return True\n",
        "    else:\n",
        "        return False"
      ],
      "metadata": {
        "id": "iBE38JFKCePO"
      },
      "execution_count": 27,
      "outputs": []
    },
    {
      "cell_type": "code",
      "source": [
        "num=int(input(\"enter a number: \"))\n",
        "x=int(input(\"enter x range value: \"))\n",
        "y=int(input(\"enter y range value: \"))\n",
        "number_range=num_range(num,x,y)\n",
        "print(\"number is in given range:\",number_range)"
      ],
      "metadata": {
        "colab": {
          "base_uri": "https://localhost:8080/"
        },
        "id": "ENt07k5HImgn",
        "outputId": "02b225a4-051a-48e0-fb66-23b8437dd0b1"
      },
      "execution_count": 29,
      "outputs": [
        {
          "output_type": "stream",
          "name": "stdout",
          "text": [
            "enter a number: 12\n",
            "enter x range value: 10\n",
            "enter y range value: 14\n",
            "number is in given range: True\n"
          ]
        }
      ]
    },
    {
      "cell_type": "markdown",
      "source": [
        "Write a Python function that takes a list and returns a new list with distinct elements from the first list."
      ],
      "metadata": {
        "id": "mgyY10S2LFG1"
      }
    },
    {
      "cell_type": "code",
      "source": [
        "def funx(list):\n",
        "    new_list=[]\n",
        "    for i in list:\n",
        "        if i not in new_list:\n",
        "           new_list.append(i)\n",
        "    return new_list\n"
      ],
      "metadata": {
        "id": "g44ONwFJI81R"
      },
      "execution_count": 35,
      "outputs": []
    },
    {
      "cell_type": "code",
      "source": [
        "list1=funx([1,2,3,4,5,6,7,2,3,4,3,6])\n",
        "print(\"The new list with distinct elements: \",list1)"
      ],
      "metadata": {
        "colab": {
          "base_uri": "https://localhost:8080/"
        },
        "id": "vaFfUZUNPD7X",
        "outputId": "a57e12e0-5262-4531-8a35-354fc92713a7"
      },
      "execution_count": 39,
      "outputs": [
        {
          "output_type": "stream",
          "name": "stdout",
          "text": [
            "The new list with distinct elements:  [1, 2, 3, 4, 5, 6, 7]\n"
          ]
        }
      ]
    },
    {
      "cell_type": "markdown",
      "source": [
        "Write a Python function that accepts a string and counts the number of upper and lower case letters."
      ],
      "metadata": {
        "id": "CzVu50SbPhHj"
      }
    },
    {
      "cell_type": "code",
      "source": [
        "def count_letters(x):\n",
        "    upper_letters = 0\n",
        "    lower_letters = 0\n",
        "    for i in x:\n",
        "        if i.isupper():\n",
        "            upper_letters += 1\n",
        "        elif i.islower():\n",
        "            lower_letters += 1\n",
        "    print(\"The Upper Case Letters in the given string:\", upper_letters)\n",
        "    print(\"The Lower Case Letters in the given string:\", lower_letters)"
      ],
      "metadata": {
        "id": "KwMNbdUSPFPO"
      },
      "execution_count": 40,
      "outputs": []
    },
    {
      "cell_type": "code",
      "source": [
        "count_letters(\"WriteAPythonFunctionThatAcceptsAString\")"
      ],
      "metadata": {
        "colab": {
          "base_uri": "https://localhost:8080/"
        },
        "id": "oBCAhcDpQ3qK",
        "outputId": "d607aae3-199b-4de8-e802-2dd80dc5856e"
      },
      "execution_count": 42,
      "outputs": [
        {
          "output_type": "stream",
          "name": "stdout",
          "text": [
            "The Upper Case Letters in the given string: 8\n",
            "The Lower Case Letters in the given string: 30\n"
          ]
        }
      ]
    },
    {
      "cell_type": "code",
      "source": [],
      "metadata": {
        "id": "-7h1tR97Raea"
      },
      "execution_count": null,
      "outputs": []
    }
  ]
}