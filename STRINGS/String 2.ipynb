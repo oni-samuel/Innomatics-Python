{
 "cells": [
  {
   "cell_type": "markdown",
   "metadata": {
    "id": "Zs0ROC38kW2L"
   },
   "source": [
    "# Assignment Instructions\n",
    "\n",
    "`Hello Innominion,`\n",
    "\n",
    "- **Try to attempt all the questions in every possible way.**\n",
    "- **Some other topics are required to solve some questions. don't panic.**\n",
    "- **Those questions can be answered after the topics are taught.**\n",
    "\n",
    "\n",
    "- `Join Mentoring Session for the Support/Doubts Resolving with Our Technical Mentors (2.00 PM - 6.00 PM  Mon-Sat)`\n",
    "\n",
    "Happy Learning !!!"
   ]
  },
  {
   "cell_type": "code",
   "execution_count": null,
   "metadata": {
    "id": "Qjly4QgEkW2R"
   },
   "outputs": [],
   "source": []
  },
  {
   "cell_type": "markdown",
   "metadata": {
    "id": "-vLnDgkWkW2T"
   },
   "source": [
    "# Strings - Execrise"
   ]
  },
  {
   "cell_type": "code",
   "execution_count": 3,
   "metadata": {
    "id": "CKTdxoQbkW2U"
   },
   "outputs": [],
   "source": [
    "text = \"\"\"The University of Hawaii began using radio to send digital information as early as 1971,using ALOHAnet.\n",
    "Friedhelm Hillebrand conceptualised SMS in 1984 while working for Deutsche Telekom. Sitting at a typewriter at home,\n",
    "Hillebrand typed out random sentences and counted every letter, number, punctuation, and space.\n",
    "Almost every time, the messages contained fewer than 160 characters, thus giving the basis for the\n",
    "limit one could type via text messaging. With Bernard Ghillebaert of France Télécom, he developed\n",
    "a proposal for the GSM (Groupe Spécial Mobile) meeting in February 1985 in Oslo.\n",
    "The first technical solution evolved in a GSM subgroup under the leadership of Finn Trosby.\n",
    "It was further developed under the leadership of Kevin Holley and Ian Harris (see Short Message Service).\n",
    "SMS forms an integral part of SS7 (Signalling System No. 7). Under SS7, it is a \"state\" with a 160 character data,\n",
    "coded in the ITU-T \"T.56\" text format, that has a \"sequence lead in\" to determine different language codes,\n",
    "and may have special character codes that permits, for example, sending simple graphs as text.\n",
    "This was part of ISDN (Integrated Services Digital Network) and since GSM is based on this,\n",
    "made its way to the mobile phone. Messages could be sent and received on ISDN phones,\n",
    "and these can send SMS to any GSM phone. The possibility of doing something is one thing,\n",
    "implementing it another, but systems existed from 1988 that sent SMS messages to mobile phones (compare ND-NOTIS).\"\"\""
   ]
  },
  {
   "cell_type": "markdown",
   "metadata": {
    "id": "1vDYRc8TkW2s"
   },
   "source": [
    ">  `Question:` How many characters in text"
   ]
  },
  {
   "cell_type": "code",
   "execution_count": 4,
   "metadata": {
    "colab": {
     "base_uri": "https://localhost:8080/"
    },
    "id": "ghc8aMiLkW2t",
    "outputId": "45ffe514-88b4-4710-b12b-95290ee2dec6"
   },
   "outputs": [
    {
     "data": {
      "text/plain": [
       "1493"
      ]
     },
     "execution_count": 4,
     "metadata": {},
     "output_type": "execute_result"
    }
   ],
   "source": [
    "# CODE HERE\n",
    "len(text)"
   ]
  },
  {
   "cell_type": "markdown",
   "metadata": {
    "id": "2Rs0V35FkW2v"
   },
   "source": [
    ">  `Question:` How many words are there in the \"text\""
   ]
  },
  {
   "cell_type": "code",
   "execution_count": 5,
   "metadata": {
    "colab": {
     "base_uri": "https://localhost:8080/"
    },
    "id": "g2XttQSnkW2w",
    "outputId": "087c11f4-cb82-4f3e-c26f-a019d01602ae"
   },
   "outputs": [
    {
     "data": {
      "text/plain": [
       "244"
      ]
     },
     "execution_count": 5,
     "metadata": {},
     "output_type": "execute_result"
    }
   ],
   "source": [
    "words = text.split()\n",
    "len(words)"
   ]
  },
  {
   "cell_type": "code",
   "execution_count": 6,
   "metadata": {
    "colab": {
     "base_uri": "https://localhost:8080/"
    },
    "id": "pllpkgI8kW2w",
    "outputId": "81cf58d3-968c-43e4-e432-63ae39698eed"
   },
   "outputs": [
    {
     "data": {
      "text/plain": [
       "244"
      ]
     },
     "execution_count": 6,
     "metadata": {},
     "output_type": "execute_result"
    }
   ],
   "source": [
    "len(words)"
   ]
  },
  {
   "cell_type": "markdown",
   "metadata": {
    "id": "8LUC-NYmkW2x"
   },
   "source": [
    ">  `Question:` How many unique words in the \"text\""
   ]
  },
  {
   "cell_type": "code",
   "execution_count": 7,
   "metadata": {
    "id": "Nooc12I0K6EQ"
   },
   "outputs": [],
   "source": [
    "text = \"\"\"The University of Hawaii began using radio to send digital information as early as 1971,using ALOHAnet.\n",
    "Friedhelm Hillebrand conceptualised SMS in 1984 while working for Deutsche Telekom. Sitting at a typewriter at home,\n",
    "Hillebrand typed out random sentences and counted every letter, number, punctuation, and space.\n",
    "Almost every time, the messages contained fewer than 160 characters, thus giving the basis for the\n",
    "limit one could type via text messaging. With Bernard Ghillebaert of France Télécom, he developed\n",
    "a proposal for the GSM (Groupe Spécial Mobile) meeting in February 1985 in Oslo.\n",
    "The first technical solution evolved in a GSM subgroup under the leadership of Finn Trosby.\n",
    "It was further developed under the leadership of Kevin Holley and Ian Harris (see Short Message Service).\n",
    "SMS forms an integral part of SS7 (Signalling System No. 7). Under SS7, it is a \"state\" with a 160 character data,\n",
    "coded in the ITU-T \"T.56\" text format, that has a \"sequence lead in\" to determine different language codes,\n",
    "and may have special character codes that permits, for example, sending simple graphs as text.\n",
    "This was part of ISDN (Integrated Services Digital Network) and since GSM is based on this,\n",
    "made its way to the mobile phone. Messages could be sent and received on ISDN phones,\n",
    "and these can send SMS to any GSM phone. The possibility of doing something is one thing,\n",
    "implementing it another, but systems existed from 1988 that sent SMS messages to mobile phones (compare ND-NOTIS).\"\"\""
   ]
  },
  {
   "cell_type": "code",
   "execution_count": 8,
   "metadata": {
    "colab": {
     "base_uri": "https://localhost:8080/"
    },
    "id": "M1mlyt4skW2x",
    "outputId": "950b36ef-4d78-4aaf-b176-f13f4f22abc0"
   },
   "outputs": [
    {
     "name": "stdout",
     "output_type": "stream",
     "text": [
      "174\n"
     ]
    }
   ],
   "source": [
    "words = text.split()\n",
    "\n",
    "\n",
    "unique_words = set(words)\n",
    "unique_word_count = len(unique_words)\n",
    "print(unique_word_count)"
   ]
  },
  {
   "cell_type": "markdown",
   "metadata": {
    "id": "Ys38l_2skW2y"
   },
   "source": [
    ">  `Question:` Find Lexical diversity\n",
    "\n",
    "lexical_diversity = (number of words)/(number of unique words)"
   ]
  },
  {
   "cell_type": "code",
   "execution_count": 9,
   "metadata": {
    "colab": {
     "base_uri": "https://localhost:8080/"
    },
    "id": "uWPG8bsZkW2y",
    "outputId": "a9935753-cb30-47f0-e189-9a0277cb8f7f"
   },
   "outputs": [
    {
     "data": {
      "text/plain": [
       "1.4022988505747127"
      ]
     },
     "execution_count": 9,
     "metadata": {},
     "output_type": "execute_result"
    }
   ],
   "source": [
    "len(words)/unique_word_count"
   ]
  },
  {
   "cell_type": "markdown",
   "metadata": {
    "id": "ZKBfzq3ukW2z"
   },
   "source": [
    ">  `Question:` Count how many \"the\" in text"
   ]
  },
  {
   "cell_type": "code",
   "execution_count": 10,
   "metadata": {
    "colab": {
     "base_uri": "https://localhost:8080/"
    },
    "id": "p8TJQrUfkW2z",
    "outputId": "328c618b-3fb0-48d1-9261-b6ccc98fea03"
   },
   "outputs": [
    {
     "data": {
      "text/plain": [
       "14"
      ]
     },
     "execution_count": 10,
     "metadata": {},
     "output_type": "execute_result"
    }
   ],
   "source": [
    "# CODE HERE\n",
    "text=text.lower()\n",
    "text.count('the')"
   ]
  },
  {
   "cell_type": "markdown",
   "metadata": {
    "id": "ALKUDBIJkW20"
   },
   "source": [
    ">  `Question:` Count how many \"a\" in text"
   ]
  },
  {
   "cell_type": "code",
   "execution_count": 11,
   "metadata": {
    "colab": {
     "base_uri": "https://localhost:8080/"
    },
    "id": "e_F-HbjlkW21",
    "outputId": "6557e32d-50f2-4b55-aba8-7ca7dda5ff37"
   },
   "outputs": [
    {
     "data": {
      "text/plain": [
       "92"
      ]
     },
     "execution_count": 11,
     "metadata": {},
     "output_type": "execute_result"
    }
   ],
   "source": [
    "text.count('a')"
   ]
  },
  {
   "cell_type": "markdown",
   "metadata": {
    "id": "_sD8BjxukW21"
   },
   "source": [
    ">  `Question:` Extract First 10 words in text"
   ]
  },
  {
   "cell_type": "code",
   "execution_count": 10,
   "metadata": {
    "colab": {
     "base_uri": "https://localhost:8080/"
    },
    "id": "sl9eI-iCkW24",
    "outputId": "341c6e1f-f50c-4030-e96c-fb2bad229d4c"
   },
   "outputs": [
    {
     "name": "stdout",
     "output_type": "stream",
     "text": [
      "the university of hawaii began using radio to send digital\n"
     ]
    }
   ],
   "source": [
    "words = ' '.join(text.split()[:10])\n",
    "str(words)\n",
    "print(words)"
   ]
  },
  {
   "cell_type": "markdown",
   "metadata": {
    "id": "nRbgAsEykW25"
   },
   "source": [
    ">  `Question:` Append \" Innomatics Reseach Labs\" after first 10 words in the text"
   ]
  },
  {
   "cell_type": "code",
   "execution_count": 17,
   "metadata": {
    "colab": {
     "base_uri": "https://localhost:8080/"
    },
    "id": "Q9gIrYd1kW25",
    "outputId": "8ba09e3f-1a43-48b4-a105-9d93a6093307"
   },
   "outputs": [
    {
     "name": "stdout",
     "output_type": "stream",
     "text": [
      "the university of hawaii began using radio to send digital Innomatics Research Labs information as early as 1971,using alohanet. friedhelm hillebrand conceptualised sms in 1984 while working for deutsche telekom. sitting at a typewriter at home, hillebrand typed out random sentences and counted every letter, number, punctuation, and space. almost every time, the messages contained fewer than 160 characters, thus giving the basis for the limit one could type via text messaging. with bernard ghillebaert of france télécom, he developed a proposal for the gsm (groupe spécial mobile) meeting in february 1985 in oslo. the first technical solution evolved in a gsm subgroup under the leadership of finn trosby. it was further developed under the leadership of kevin holley and ian harris (see short message service). sms forms an integral part of ss7 (signalling system no. 7). under ss7, it is a \"state\" with a 160 character data, coded in the itu-t \"t.56\" text format, that has a \"sequence lead in\" to determine different language codes, and may have special character codes that permits, for example, sending simple graphs as text. this was part of isdn (integrated services digital network) and since gsm is based on this, made its way to the mobile phone. messages could be sent and received on isdn phones, and these can send sms to any gsm phone. the possibility of doing something is one thing, implementing it another, but systems existed from 1988 that sent sms messages to mobile phones (compare nd-notis).\n"
     ]
    }
   ],
   "source": [
    "# CODE HERE\n",
    "words = text.split()\n",
    "\n",
    "text1 = ' '.join(words[:10]) + \" Innomatics Research Labs \" + ' '.join(words[10:])\n",
    "\n",
    "print(text1)"
   ]
  },
  {
   "cell_type": "markdown",
   "metadata": {
    "id": "s6dohKPCkW26"
   },
   "source": [
    ">  `Question:` Extract First Fourteen (14) character in text"
   ]
  },
  {
   "cell_type": "code",
   "execution_count": 18,
   "metadata": {
    "colab": {
     "base_uri": "https://localhost:8080/"
    },
    "id": "jbeWrpz8kW26",
    "outputId": "821c7449-a45c-472e-cc9b-a078cf637537"
   },
   "outputs": [
    {
     "name": "stdout",
     "output_type": "stream",
     "text": [
      "the university\n"
     ]
    }
   ],
   "source": [
    "# CODE\n",
    "print(text[:14])"
   ]
  },
  {
   "cell_type": "markdown",
   "metadata": {
    "id": "hxIGsVUykW28"
   },
   "source": [
    ">  `Question:` Extract first Fourteen (14) words in text"
   ]
  },
  {
   "cell_type": "code",
   "execution_count": 20,
   "metadata": {
    "colab": {
     "base_uri": "https://localhost:8080/"
    },
    "id": "-bUPKY7VkW28",
    "outputId": "d3ecd11f-96d4-4efc-bb67-eba449ac9a9b"
   },
   "outputs": [
    {
     "name": "stdout",
     "output_type": "stream",
     "text": [
      "the university of hawaii began using radio to send digital information as early as\n"
     ]
    }
   ],
   "source": [
    "# CODE HERE\n",
    "words = text.split()\n",
    "\n",
    "first_words = ' '.join(words[:14])\n",
    "print(first_words)"
   ]
  },
  {
   "cell_type": "markdown",
   "metadata": {
    "id": "vUln5DXRkW2-"
   },
   "source": [
    ">  `Question:` Extract First 10 words in text\n",
    "- Convert every letter into ***upper*** case\n",
    "- Convert every letter into ***lower*** case"
   ]
  },
  {
   "cell_type": "code",
   "execution_count": 21,
   "metadata": {
    "colab": {
     "base_uri": "https://localhost:8080/"
    },
    "id": "-2eF7dkhkW2-",
    "outputId": "645f4c04-aadd-4f27-d590-f3a57fc2fa41"
   },
   "outputs": [
    {
     "name": "stdout",
     "output_type": "stream",
     "text": [
      "THE UNIVERSITY OF HAWAII BEGAN USING RADIO TO SEND DIGITAL\n"
     ]
    }
   ],
   "source": [
    "words = text.split()\n",
    "\n",
    "first_10_words = ' '.join(words[:10])\n",
    "\n",
    "first_10_words= first_10_words.upper()\n",
    "print(first_10_words)"
   ]
  },
  {
   "cell_type": "code",
   "execution_count": 22,
   "metadata": {
    "colab": {
     "base_uri": "https://localhost:8080/"
    },
    "id": "XjOe0nCYkW2_",
    "outputId": "4a45ba5c-c52e-431c-c0e1-62f2ef4e3d0f"
   },
   "outputs": [
    {
     "name": "stdout",
     "output_type": "stream",
     "text": [
      "the university of hawaii began using radio to send digital\n"
     ]
    }
   ],
   "source": [
    "# CODE HERE\n",
    "first_10_words = first_10_words.lower()\n",
    "print(first_10_words)"
   ]
  },
  {
   "cell_type": "markdown",
   "metadata": {
    "id": "6JshJiwTkW2_"
   },
   "source": [
    ">  `Question:`  Find the list of letter starting with\n",
    "- u\n",
    "- o\n",
    "> `hint - You need to use for loop for this`"
   ]
  },
  {
   "cell_type": "code",
   "execution_count": 23,
   "metadata": {
    "id": "EK01HJS_kW3A"
   },
   "outputs": [],
   "source": [
    "words = text.split()\n",
    "\n",
    "u = []\n",
    "o = []\n",
    "\n",
    "for word in words:\n",
    "  if word.lower().startswith('u'):\n",
    "    u.append(word)\n",
    "  elif word.lower().startswith('o'):\n",
    "    o.append(word)"
   ]
  },
  {
   "cell_type": "code",
   "execution_count": 24,
   "metadata": {
    "colab": {
     "base_uri": "https://localhost:8080/"
    },
    "id": "MyjrAagkkW3B",
    "outputId": "4a4b33e7-d9bf-456f-cfde-ae53fab819aa"
   },
   "outputs": [
    {
     "name": "stdout",
     "output_type": "stream",
     "text": [
      "{'under', 'using', 'university'}\n",
      "{'of', 'out', 'on', 'oslo.', 'one'}\n"
     ]
    }
   ],
   "source": [
    "print(set(u))\n",
    "print(set(o))\n"
   ]
  },
  {
   "cell_type": "markdown",
   "metadata": {
    "id": "Ljg60vEhkW3C"
   },
   "source": [
    ">  `Question:` Find the list of letter ending with\n",
    "- e\n",
    "- n\n",
    "> `hint - You need to use for loop for this`"
   ]
  },
  {
   "cell_type": "code",
   "execution_count": 25,
   "metadata": {
    "id": "96KpYscMkW3C"
   },
   "outputs": [],
   "source": [
    "e = []\n",
    "n = []\n",
    "\n",
    "for word in words:\n",
    "  if word.lower().endswith('e'):\n",
    "    e.append(word)\n",
    "  elif word.lower().endswith('n'):\n",
    "    n.append(word)"
   ]
  },
  {
   "cell_type": "code",
   "execution_count": 26,
   "metadata": {
    "colab": {
     "base_uri": "https://localhost:8080/"
    },
    "id": "nFzKFtj_kW3C",
    "outputId": "dbdae78b-6e32-4bf0-9944-541cd3c4a2f7"
   },
   "outputs": [
    {
     "name": "stdout",
     "output_type": "stream",
     "text": [
      "{'determine', 'the', 'he', 'mobile', 'france', 'message', 'type', 'these', 'simple', 'made', 'one', 'be', '(see', 'since', 'while', '(compare', 'deutsche', '(groupe', 'language', '\"sequence', 'have'}\n"
     ]
    }
   ],
   "source": [
    "e=set(e)\n",
    "n=set(n)\n",
    "\n",
    "print(e)"
   ]
  },
  {
   "cell_type": "code",
   "execution_count": 27,
   "metadata": {
    "colab": {
     "base_uri": "https://localhost:8080/"
    },
    "id": "l1aCbQ1PkW3C",
    "outputId": "278724f8-546e-451d-ac8b-a5e7d5eebb9f"
   },
   "outputs": [
    {
     "name": "stdout",
     "output_type": "stream",
     "text": [
      "{'isdn', 'in', 'can', 'began', 'ian', 'an', 'kevin', 'solution', 'finn', 'on', 'information', 'than'}\n"
     ]
    }
   ],
   "source": [
    "print(n)"
   ]
  },
  {
   "cell_type": "markdown",
   "metadata": {
    "id": "ynkzUAm3kW3D"
   },
   "source": [
    ">  `Question:` Extract first 10 words of text and Capitalize first letter of each word"
   ]
  },
  {
   "cell_type": "code",
   "execution_count": 36,
   "metadata": {
    "colab": {
     "base_uri": "https://localhost:8080/"
    },
    "id": "F4rnn3WLkW3D",
    "outputId": "55b5f58e-ac6e-47ac-f114-1b6abdcc0e49"
   },
   "outputs": [
    {
     "name": "stdout",
     "output_type": "stream",
     "text": [
      "The University Of Hawaii Began Using Radio To Send Digital\n"
     ]
    }
   ],
   "source": [
    "words = text.split()\n",
    "string1 = \"\"\n",
    "\n",
    "for word in words[:10]:\n",
    "  word=word.capitalize()\n",
    "  string1 += word + \" \"\n",
    "\n",
    "result= string1.strip()\n",
    "\n",
    "print(result)"
   ]
  },
  {
   "cell_type": "markdown",
   "metadata": {
    "id": "QqrRCI54kW3E"
   },
   "source": [
    ">  `Question:` Replace the word \"University\" with name \"Innomatics\" in text"
   ]
  },
  {
   "cell_type": "code",
   "execution_count": 37,
   "metadata": {
    "colab": {
     "base_uri": "https://localhost:8080/"
    },
    "id": "tYJC7Ju7kW3E",
    "outputId": "bc522c2f-391f-47b1-e640-78eb1290ad6c"
   },
   "outputs": [
    {
     "name": "stdout",
     "output_type": "stream",
     "text": [
      "the Innomatics of hawaii began using radio to send digital information as early as 1971,using alohanet.\n",
      "friedhelm hillebrand conceptualised sms in 1984 while working for deutsche telekom. sitting at a typewriter at home,\n",
      "hillebrand typed out random sentences and counted every letter, number, punctuation, and space.\n",
      "almost every time, the messages contained fewer than 160 characters, thus giving the basis for the\n",
      "limit one could type via text messaging. with bernard ghillebaert of france télécom, he developed\n",
      "a proposal for the gsm (groupe spécial mobile) meeting in february 1985 in oslo.\n",
      "the first technical solution evolved in a gsm subgroup under the leadership of finn trosby.\n",
      "it was further developed under the leadership of kevin holley and ian harris (see short message service).\n",
      "sms forms an integral part of ss7 (signalling system no. 7). under ss7, it is a \"state\" with a 160 character data,\n",
      "coded in the itu-t \"t.56\" text format, that has a \"sequence lead in\" to determine different language codes,\n",
      "and may have special character codes that permits, for example, sending simple graphs as text.\n",
      "this was part of isdn (integrated services digital network) and since gsm is based on this,\n",
      "made its way to the mobile phone. messages could be sent and received on isdn phones,\n",
      "and these can send sms to any gsm phone. the possibility of doing something is one thing,\n",
      "implementing it another, but systems existed from 1988 that sent sms messages to mobile phones (compare nd-notis).\n"
     ]
    }
   ],
   "source": [
    "text = text.replace(\"university\", \"Innomatics\")\n",
    "\n",
    "print(text)"
   ]
  },
  {
   "cell_type": "markdown",
   "metadata": {
    "id": "OvYehJKikW3G"
   },
   "source": [
    "> `Question:`  Convert the \"text\" into sentances and store those into one variable called \"sentance\""
   ]
  },
  {
   "cell_type": "code",
   "execution_count": 38,
   "metadata": {
    "colab": {
     "base_uri": "https://localhost:8080/"
    },
    "id": "SNETlXVg8GLA",
    "outputId": "de8d3c4c-9900-4a2b-deb0-818a21c938d2"
   },
   "outputs": [
    {
     "data": {
      "text/plain": [
       "['the Innomatics of hawaii began using radio to send digital information as early as 1971,using alohanet',\n",
       " '\\nfriedhelm hillebrand conceptualised sms in 1984 while working for deutsche telekom',\n",
       " ' sitting at a typewriter at home,\\nhillebrand typed out random sentences and counted every letter, number, punctuation, and space',\n",
       " '\\nalmost every time, the messages contained fewer than 160 characters, thus giving the basis for the\\nlimit one could type via text messaging',\n",
       " ' with bernard ghillebaert of france télécom, he developed\\na proposal for the gsm (groupe spécial mobile) meeting in february 1985 in oslo',\n",
       " '\\nthe first technical solution evolved in a gsm subgroup under the leadership of finn trosby',\n",
       " '\\nit was further developed under the leadership of kevin holley and ian harris (see short message service)',\n",
       " '\\nsms forms an integral part of ss7 (signalling system no',\n",
       " ' 7)',\n",
       " ' under ss7, it is a \"state\" with a 160 character data,\\ncoded in the itu-t \"t',\n",
       " '56\" text format, that has a \"sequence lead in\" to determine different language codes,\\nand may have special character codes that permits, for example, sending simple graphs as text',\n",
       " '\\nthis was part of isdn (integrated services digital network) and since gsm is based on this,\\nmade its way to the mobile phone',\n",
       " ' messages could be sent and received on isdn phones,\\nand these can send sms to any gsm phone',\n",
       " ' the possibility of doing something is one thing,\\nimplementing it another, but systems existed from 1988 that sent sms messages to mobile phones (compare nd-notis)',\n",
       " '']"
      ]
     },
     "execution_count": 38,
     "metadata": {},
     "output_type": "execute_result"
    }
   ],
   "source": [
    "sentences = text.split('.')\n",
    "\n",
    "sentences"
   ]
  },
  {
   "cell_type": "markdown",
   "metadata": {
    "id": "ouuaYBNFkW3I"
   },
   "source": [
    " `Question:`\n",
    "\n",
    "> 1.From the above sentance remove '\\n'\n"
   ]
  },
  {
   "cell_type": "code",
   "execution_count": 57,
   "metadata": {
    "colab": {
     "base_uri": "https://localhost:8080/"
    },
    "id": "9722CxcOkW3I",
    "outputId": "a652d6ed-a4ce-4026-900e-75c039e3a4ee"
   },
   "outputs": [
    {
     "name": "stdout",
     "output_type": "stream",
     "text": [
      "the Innomatics of hawaii began using radio to send digital information as early as 1971,using alohanet  friedhelm hillebrand conceptualised sms in 1984 while working for deutsche telekom  sitting at a typewriter at home, hillebrand typed out random sentences and counted every letter, number, punctuation, and space  almost every time, the messages contained fewer than 160 characters, thus giving the basis for the limit one could type via text messaging  with bernard ghillebaert of france télécom, he developed a proposal for the gsm (groupe spécial mobile) meeting in february 1985 in oslo  the first technical solution evolved in a gsm subgroup under the leadership of finn trosby  it was further developed under the leadership of kevin holley and ian harris (see short message service)  sms forms an integral part of ss7 (signalling system no  7)  under ss7, it is a \"state\" with a 160 character data, coded in the itu-t \"t 56\" text format, that has a \"sequence lead in\" to determine different language codes, and may have special character codes that permits, for example, sending simple graphs as text  this was part of isdn (integrated services digital network) and since gsm is based on this, made its way to the mobile phone  messages could be sent and received on isdn phones, and these can send sms to any gsm phone  the possibility of doing something is one thing, implementing it another, but systems existed from 1988 that sent sms messages to mobile phones (compare nd-notis)  \n"
     ]
    }
   ],
   "source": [
    "sentences = text.split('.')\n",
    "string1=''\n",
    "for i in range(len(sentences)):\n",
    "    sentences[i] = sentences[i].replace('\\n', ' ')\n",
    "    string1 += sentences[i] + \" \"\n",
    "print(string1)"
   ]
  },
  {
   "cell_type": "markdown",
   "metadata": {
    "id": "jZo-b-S8kW3J"
   },
   "source": [
    ">   `Question:` If the following string is given as input to the program:\n",
    "\n",
    "- H1e2l3l4o5w6o7r8l9d\n",
    "\n",
    ">   `Output:`  Then, the output of the program should be:\n",
    "\n",
    "- Helloworld"
   ]
  },
  {
   "cell_type": "code",
   "execution_count": 2,
   "metadata": {
    "colab": {
     "base_uri": "https://localhost:8080/"
    },
    "id": "XKG4KbvekW3K",
    "outputId": "caa8f488-af69-4b90-ffb7-f18a48a28d9e"
   },
   "outputs": [
    {
     "name": "stdout",
     "output_type": "stream",
     "text": [
      "Helloworld\n"
     ]
    }
   ],
   "source": [
    "text= \"H1e2l3l4o5w6o7r8l9d\"\n",
    "text1= \"\"\n",
    "\n",
    "for s in text:\n",
    "  if s.isalpha():\n",
    "    text1 += s\n",
    "\n",
    "print(text1)"
   ]
  },
  {
   "cell_type": "markdown",
   "metadata": {
    "id": "j4054eNPkW3K"
   },
   "source": [
    "# [Innomatics Research Labs](https:/innomatics.in/)\n",
    "[www.innomatics.in](https:/innomatics.in/)"
   ]
  },
  {
   "cell_type": "code",
   "execution_count": null,
   "metadata": {
    "id": "o1ZAUDRMkW3L"
   },
   "outputs": [],
   "source": []
  }
 ],
 "metadata": {
  "colab": {
   "provenance": []
  },
  "kernelspec": {
   "display_name": "Python 3 (ipykernel)",
   "language": "python",
   "name": "python3"
  },
  "language_info": {
   "codemirror_mode": {
    "name": "ipython",
    "version": 3
   },
   "file_extension": ".py",
   "mimetype": "text/x-python",
   "name": "python",
   "nbconvert_exporter": "python",
   "pygments_lexer": "ipython3",
   "version": "3.9.7"
  }
 },
 "nbformat": 4,
 "nbformat_minor": 1
}
