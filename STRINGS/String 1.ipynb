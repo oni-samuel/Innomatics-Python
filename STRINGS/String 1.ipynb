{
 "cells": [
  {
   "cell_type": "code",
   "execution_count": 1,
   "metadata": {
    "id": "rzaJnADHL7j9"
   },
   "outputs": [],
   "source": [
    "s= \" $python is fun, python is easy, but python is tough when you don't practice it revise it@ \""
   ]
  },
  {
   "cell_type": "markdown",
   "metadata": {
    "id": "2Zo3Lm0CzsUu"
   },
   "source": [
    "How many characters are present in the above string\n"
   ]
  },
  {
   "cell_type": "code",
   "execution_count": 3,
   "metadata": {
    "colab": {
     "base_uri": "https://localhost:8080/"
    },
    "id": "XTOxrIJcz4U4",
    "outputId": "d0fe3431-41ba-4a03-e7ca-ffc175896d7c"
   },
   "outputs": [
    {
     "data": {
      "text/plain": [
       "91"
      ]
     },
     "execution_count": 3,
     "metadata": {},
     "output_type": "execute_result"
    }
   ],
   "source": [
    "len(s)"
   ]
  },
  {
   "cell_type": "markdown",
   "metadata": {
    "id": "dxJ3nxp40yNy"
   },
   "source": [
    "split the string using commas(,)"
   ]
  },
  {
   "cell_type": "code",
   "execution_count": 4,
   "metadata": {
    "colab": {
     "base_uri": "https://localhost:8080/"
    },
    "id": "gShOl8Dc00IE",
    "outputId": "4fdf8649-0587-41fb-b403-cb705fcd1e4f"
   },
   "outputs": [
    {
     "data": {
      "text/plain": [
       "[' $python is fun',\n",
       " ' python is easy',\n",
       " \" but python is tough when you don't practice it revise it@ \"]"
      ]
     },
     "execution_count": 4,
     "metadata": {},
     "output_type": "execute_result"
    }
   ],
   "source": [
    "s.split(\",\")"
   ]
  },
  {
   "cell_type": "markdown",
   "metadata": {
    "id": "QiEF86uE05eD"
   },
   "source": [
    "count the frequency of \"python\""
   ]
  },
  {
   "cell_type": "code",
   "execution_count": 5,
   "metadata": {
    "colab": {
     "base_uri": "https://localhost:8080/"
    },
    "id": "mcv-lyrY08V4",
    "outputId": "feee3963-0602-4c26-cccb-94e044dbcaaf"
   },
   "outputs": [
    {
     "name": "stdout",
     "output_type": "stream",
     "text": [
      "3\n"
     ]
    }
   ],
   "source": [
    "print(s.count(\"python\"))"
   ]
  },
  {
   "cell_type": "markdown",
   "metadata": {
    "id": "UCKk4v-S0922"
   },
   "source": [
    "replace \"when \" with \"if and only if\""
   ]
  },
  {
   "cell_type": "code",
   "execution_count": 6,
   "metadata": {
    "colab": {
     "base_uri": "https://localhost:8080/"
    },
    "id": "v21ziUoR09ej",
    "outputId": "c4c24393-eb41-4237-bbdb-2e4e15bb4fa9"
   },
   "outputs": [
    {
     "name": "stdout",
     "output_type": "stream",
     "text": [
      " $python is fun, python is easy, but python is tough if and only if you don't practice it revise it@ \n"
     ]
    }
   ],
   "source": [
    "s1=s.replace(\"when\",\"if and only if\")\n",
    "print(s1)"
   ]
  },
  {
   "cell_type": "markdown",
   "metadata": {
    "id": "wBGdITxa1bXN"
   },
   "source": [
    "find the difference between the number of characters in the original string and number of characters when you replace \"python \" with \"data science\". replace only the last occurring python with data sciences"
   ]
  },
  {
   "cell_type": "code",
   "execution_count": 7,
   "metadata": {
    "colab": {
     "base_uri": "https://localhost:8080/"
    },
    "id": "9ik4b34f1gFW",
    "outputId": "c0869165-082d-454c-f517-e80409f29a1d"
   },
   "outputs": [
    {
     "name": "stdout",
     "output_type": "stream",
     "text": [
      "37\n",
      "6\n"
     ]
    }
   ],
   "source": [
    "last_python_index =s.rfind(\"python\")\n",
    "\n",
    "print(last_python_index)\n",
    "print(len('python'))\n"
   ]
  },
  {
   "cell_type": "code",
   "execution_count": 8,
   "metadata": {
    "colab": {
     "base_uri": "https://localhost:8080/"
    },
    "id": "n3gsnMNb1j1R",
    "outputId": "497db5fc-2896-4adc-b364-f5faa164d0d5"
   },
   "outputs": [
    {
     "name": "stdout",
     "output_type": "stream",
     "text": [
      " $python is fun, python is easy, but data science is tough when you don't practice it revise it@ \n"
     ]
    }
   ],
   "source": [
    "#concatenating strings before python, 'data science' and strings after python\n",
    "s2= s[:37] + \"data science\" + s[37 +6:]\n",
    "print(s2)"
   ]
  },
  {
   "cell_type": "code",
   "execution_count": 9,
   "metadata": {
    "colab": {
     "base_uri": "https://localhost:8080/"
    },
    "id": "5tKLHuWv1m3B",
    "outputId": "82386b9f-54a4-45ea-d41a-94bfa6029bcb"
   },
   "outputs": [
    {
     "data": {
      "text/plain": [
       "97"
      ]
     },
     "execution_count": 9,
     "metadata": {},
     "output_type": "execute_result"
    }
   ],
   "source": [
    "len(s2)"
   ]
  },
  {
   "cell_type": "code",
   "execution_count": 10,
   "metadata": {
    "id": "aSasBq_W1pYh"
   },
   "outputs": [],
   "source": [
    "difference=len(s2)-len(s)"
   ]
  },
  {
   "cell_type": "code",
   "execution_count": 11,
   "metadata": {
    "colab": {
     "base_uri": "https://localhost:8080/"
    },
    "id": "Pyppdnk71raP",
    "outputId": "3843a054-3700-4669-8ab6-78ae4366e08b"
   },
   "outputs": [
    {
     "name": "stdout",
     "output_type": "stream",
     "text": [
      "6\n"
     ]
    }
   ],
   "source": [
    "print(difference)"
   ]
  },
  {
   "cell_type": "markdown",
   "metadata": {
    "id": "U-V3sX781wSQ"
   },
   "source": [
    "Access and print the first word of the string using indexing."
   ]
  },
  {
   "cell_type": "code",
   "execution_count": 12,
   "metadata": {
    "colab": {
     "base_uri": "https://localhost:8080/"
    },
    "id": "C1-Hak4T1tgI",
    "outputId": "6a5a46b8-aa11-44a1-b5fc-e88cf6f7da50"
   },
   "outputs": [
    {
     "name": "stdout",
     "output_type": "stream",
     "text": [
      "I\n"
     ]
    }
   ],
   "source": [
    "sentence = \"I want to become a Data Scientist\"\n",
    "print(sentence[0])"
   ]
  },
  {
   "cell_type": "markdown",
   "metadata": {
    "id": "W0kFSqZO12cx"
   },
   "source": [
    "Access and print the last word of the string using negative indexing."
   ]
  },
  {
   "cell_type": "code",
   "execution_count": 13,
   "metadata": {
    "colab": {
     "base_uri": "https://localhost:8080/"
    },
    "id": "tISgt4rG1zWM",
    "outputId": "d3484ae9-c5a4-4ed6-d9ac-e76ae16b2474"
   },
   "outputs": [
    {
     "name": "stdout",
     "output_type": "stream",
     "text": [
      "Scientist\n"
     ]
    }
   ],
   "source": [
    "print(sentence[-9:])"
   ]
  },
  {
   "cell_type": "markdown",
   "metadata": {
    "id": "sEKGZttz19lc"
   },
   "source": [
    "What are possible ways yo extract Scientist(use forward and reverse)"
   ]
  },
  {
   "cell_type": "code",
   "execution_count": 14,
   "metadata": {
    "colab": {
     "base_uri": "https://localhost:8080/"
    },
    "id": "WExpZBR51-Cf",
    "outputId": "8772196a-a15f-4808-c852-9cf372f7c9f8"
   },
   "outputs": [
    {
     "name": "stdout",
     "output_type": "stream",
     "text": [
      "24\n"
     ]
    }
   ],
   "source": [
    "print(sentence.find('Scientist'))"
   ]
  },
  {
   "cell_type": "code",
   "execution_count": 15,
   "metadata": {
    "colab": {
     "base_uri": "https://localhost:8080/"
    },
    "id": "d4Hattc62IVK",
    "outputId": "8b646741-8021-46e9-8038-6c24c106b6a4"
   },
   "outputs": [
    {
     "name": "stdout",
     "output_type": "stream",
     "text": [
      "Scientist\n"
     ]
    }
   ],
   "source": [
    "print(sentence[24:])"
   ]
  },
  {
   "cell_type": "code",
   "execution_count": 16,
   "metadata": {
    "colab": {
     "base_uri": "https://localhost:8080/"
    },
    "id": "RhirDObP2KxQ",
    "outputId": "0da6fd0a-f74b-47a4-de2c-3f35c01d999a"
   },
   "outputs": [
    {
     "name": "stdout",
     "output_type": "stream",
     "text": [
      "Scientist\n"
     ]
    }
   ],
   "source": [
    "print(sentence[-9:])"
   ]
  },
  {
   "cell_type": "markdown",
   "metadata": {
    "id": "YycITXYw2Tsg"
   },
   "source": [
    "Apply slicing to extract only the numeric characters at odd positions"
   ]
  },
  {
   "cell_type": "code",
   "execution_count": 17,
   "metadata": {
    "id": "iAiXUeFS2VCW"
   },
   "outputs": [],
   "source": [
    "a = \"123123123\""
   ]
  },
  {
   "cell_type": "code",
   "execution_count": 18,
   "metadata": {
    "colab": {
     "base_uri": "https://localhost:8080/",
     "height": 35
    },
    "id": "ylYH1Z-f2XrM",
    "outputId": "6cf0fe48-9ca3-4ee5-fac1-557e59cab18a"
   },
   "outputs": [
    {
     "data": {
      "application/vnd.google.colaboratory.intrinsic+json": {
       "type": "string"
      },
      "text/plain": [
       "'2132'"
      ]
     },
     "execution_count": 18,
     "metadata": {},
     "output_type": "execute_result"
    }
   ],
   "source": [
    "# Extract numeric characters at odd positions\n",
    "a[1::2]"
   ]
  },
  {
   "cell_type": "markdown",
   "metadata": {
    "id": "cmtrt99_2e3Z"
   },
   "source": [
    "Create 3 variables to store street, city and country, now create address variable to store the entire address. Use two ways of creating this variable, one using + operator and the other using f-string. Now Print the address in such a way that the street, city and country prints in a separate line."
   ]
  },
  {
   "cell_type": "code",
   "execution_count": 19,
   "metadata": {
    "colab": {
     "base_uri": "https://localhost:8080/"
    },
    "id": "8WNnpyna2fcr",
    "outputId": "06b47294-2dfc-4468-d566-2e8cc56fd7d3"
   },
   "outputs": [
    {
     "name": "stdout",
     "output_type": "stream",
     "text": [
      "123 ikeja Lagos,Nigeria\n"
     ]
    }
   ],
   "source": [
    "street=\"123 ikeja\"\n",
    "city=\"Lagos\"\n",
    "country= \"Nigeria\"\n",
    "\n",
    "address=(street+\" \"+ city +\",\" +country)\n",
    "print(address)"
   ]
  },
  {
   "cell_type": "code",
   "execution_count": 20,
   "metadata": {
    "colab": {
     "base_uri": "https://localhost:8080/"
    },
    "id": "pW0e5li52jyl",
    "outputId": "6f5dff5f-776c-4073-98f5-63ba173b0934"
   },
   "outputs": [
    {
     "name": "stdout",
     "output_type": "stream",
     "text": [
      "123 ikeja,Lagos,Nigeria\n"
     ]
    }
   ],
   "source": [
    "#address using an f-string\n",
    "address2 = f\"{street},{city},{country}\"\n",
    "print(address2)"
   ]
  },
  {
   "cell_type": "code",
   "execution_count": 21,
   "metadata": {
    "colab": {
     "base_uri": "https://localhost:8080/"
    },
    "id": "7Wi1E8SG2mok",
    "outputId": "60a9be57-6c0f-4b69-e679-f5e2f2246e20"
   },
   "outputs": [
    {
     "name": "stdout",
     "output_type": "stream",
     "text": [
      "123 ikeja\n",
      "Lagos\n",
      "Nigeria\n"
     ]
    }
   ],
   "source": [
    "#address in different lines\n",
    "address3 = f\"{street}\\n{city}\\n{country}\"\n",
    "print(address3)"
   ]
  },
  {
   "cell_type": "markdown",
   "metadata": {
    "id": "J8_i8lNp20qX"
   },
   "source": [
    "Consider the statement \"Four furious friends fought for the phone\". Print \"curious\" in place of “furious” using f-string. Example output: “Four curious friends fought for the phone”"
   ]
  },
  {
   "cell_type": "code",
   "execution_count": 22,
   "metadata": {
    "colab": {
     "base_uri": "https://localhost:8080/"
    },
    "id": "4a3FG2hb2puq",
    "outputId": "c344f041-35e1-434e-cc5b-f2163538d411"
   },
   "outputs": [
    {
     "name": "stdout",
     "output_type": "stream",
     "text": [
      "Four curious friends fought for the phone\n"
     ]
    }
   ],
   "source": [
    "statement=\"Four furious friends fought for the phone\"\n",
    "statement=statement.replace(\"furious\",\"curious\")\n",
    "print(f\"{statement}\")"
   ]
  },
  {
   "cell_type": "markdown",
   "metadata": {
    "id": "-daZ_AgV29sn"
   },
   "source": [
    "Write a program to check if \"nana\" is present in “banana” and print the result"
   ]
  },
  {
   "cell_type": "code",
   "execution_count": 23,
   "metadata": {
    "colab": {
     "base_uri": "https://localhost:8080/"
    },
    "id": "ub-PYG-h26Zf",
    "outputId": "005f25bb-eb64-4640-df18-d5f4168b3592"
   },
   "outputs": [
    {
     "name": "stdout",
     "output_type": "stream",
     "text": [
      "2\n",
      "nana\n"
     ]
    }
   ],
   "source": [
    "fruit=\"banana\"\n",
    "print(fruit.find(\"nana\"))\n",
    "print(fruit[2:])\n"
   ]
  },
  {
   "cell_type": "markdown",
   "metadata": {
    "id": "hG_ssQeY3Hvj"
   },
   "source": [
    "Write a program that takes a sentence ='Give papa a cup of proper coffee in a copper coffee cup' as input and replaces all occurrences of the word \"coffee\" with \"tea\". Check if the above sentence starts with \"Hello\" and ends with \"cup\". Return the above sentence in title case and capital case. Convert the above sentence into uppercase and count how many times the letter ‘P’ is repeated. Now, convert the whole string into lowercase and find the index of letter ‘c’."
   ]
  },
  {
   "cell_type": "code",
   "execution_count": 24,
   "metadata": {
    "id": "8_8pEKa73BHq"
   },
   "outputs": [],
   "source": [
    "sentence1 ='Give papa a cup of proper coffee in a copper coffee cup'"
   ]
  },
  {
   "cell_type": "code",
   "execution_count": 25,
   "metadata": {
    "colab": {
     "base_uri": "https://localhost:8080/"
    },
    "id": "uB6FnZFJ3LoK",
    "outputId": "80d0eb72-4ad7-4941-f60e-df7252045fab"
   },
   "outputs": [
    {
     "name": "stdout",
     "output_type": "stream",
     "text": [
      "Give papa a cup of proper tea in a copper tea cup\n"
     ]
    }
   ],
   "source": [
    "sentence2= sentence1.replace(\"coffee\", \"tea\")\n",
    "print(sentence2)"
   ]
  },
  {
   "cell_type": "code",
   "execution_count": 26,
   "metadata": {
    "colab": {
     "base_uri": "https://localhost:8080/"
    },
    "id": "SsC-UFAi3Nsv",
    "outputId": "8625bf75-dd88-4cad-b545-3f0c47b76735"
   },
   "outputs": [
    {
     "name": "stdout",
     "output_type": "stream",
     "text": [
      "False\n",
      "True\n"
     ]
    }
   ],
   "source": [
    "print(sentence1.startswith(\"Hello\"))\n",
    "print(sentence1.endswith(\"cup\"))"
   ]
  },
  {
   "cell_type": "code",
   "execution_count": 27,
   "metadata": {
    "colab": {
     "base_uri": "https://localhost:8080/"
    },
    "id": "bEmWAz093Qh4",
    "outputId": "3a2de6cc-24a5-4c9a-a2af-a05a30c3a8ea"
   },
   "outputs": [
    {
     "name": "stdout",
     "output_type": "stream",
     "text": [
      "Give Papa A Cup Of Proper Coffee In A Copper Coffee Cup\n"
     ]
    }
   ],
   "source": [
    "print(sentence1.title())"
   ]
  },
  {
   "cell_type": "code",
   "execution_count": 28,
   "metadata": {
    "colab": {
     "base_uri": "https://localhost:8080/"
    },
    "id": "GMxoXDBE3X_2",
    "outputId": "8de2ab2d-041b-4ded-87e9-0b572e337a11"
   },
   "outputs": [
    {
     "name": "stdout",
     "output_type": "stream",
     "text": [
      "Give papa a cup of proper coffee in a copper coffee cup\n"
     ]
    }
   ],
   "source": [
    "print(sentence1.capitalize())"
   ]
  },
  {
   "cell_type": "code",
   "execution_count": 29,
   "metadata": {
    "colab": {
     "base_uri": "https://localhost:8080/"
    },
    "id": "yc68pQFy3aXG",
    "outputId": "e7e6b0a2-3e46-4449-b0ec-7a0a4fb8a18a"
   },
   "outputs": [
    {
     "name": "stdout",
     "output_type": "stream",
     "text": [
      "GIVE PAPA A CUP OF PROPER COFFEE IN A COPPER COFFEE CUP\n",
      "8\n"
     ]
    }
   ],
   "source": [
    "sentence2=sentence1.upper()\n",
    "\n",
    "print(sentence2)\n",
    "\n",
    "print(sentence2.count(\"P\"))"
   ]
  },
  {
   "cell_type": "code",
   "execution_count": 30,
   "metadata": {
    "colab": {
     "base_uri": "https://localhost:8080/"
    },
    "id": "sX565vWF3gkv",
    "outputId": "1ff7d550-4fd2-4f23-cbea-e722c4596b00"
   },
   "outputs": [
    {
     "name": "stdout",
     "output_type": "stream",
     "text": [
      "12\n"
     ]
    }
   ],
   "source": [
    "sentence3=sentence1.lower()\n",
    "\n",
    "print(sentence3.index('c'))"
   ]
  },
  {
   "cell_type": "code",
   "execution_count": null,
   "metadata": {
    "id": "oPx8o7_B3jKc"
   },
   "outputs": [],
   "source": []
  }
 ],
 "metadata": {
  "colab": {
   "provenance": []
  },
  "kernelspec": {
   "display_name": "Python 3 (ipykernel)",
   "language": "python",
   "name": "python3"
  },
  "language_info": {
   "codemirror_mode": {
    "name": "ipython",
    "version": 3
   },
   "file_extension": ".py",
   "mimetype": "text/x-python",
   "name": "python",
   "nbconvert_exporter": "python",
   "pygments_lexer": "ipython3",
   "version": "3.9.7"
  }
 },
 "nbformat": 4,
 "nbformat_minor": 1
}
