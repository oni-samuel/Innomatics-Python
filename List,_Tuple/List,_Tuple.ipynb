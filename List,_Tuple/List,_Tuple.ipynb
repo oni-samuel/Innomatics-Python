{
 "cells": [
  {
   "cell_type": "markdown",
   "metadata": {
    "id": "-CKVrYFScEGs"
   },
   "source": [
    "# Assignment Instructions\n",
    "\n",
    "`Hello Innominion,`\n",
    "\n",
    "- **Try to attempt all the questions in every possible way.**\n",
    "- **Some other topics are required to solve some questions. don't panic.**\n",
    "- **Those questions can be answered after the topics are taught.**\n",
    "\n",
    "\n",
    "- `Join Mentoring Session for the Support/Doubts Resolving with Our Technical Mentors (2.00 PM - 6.00 PM  Mon-Sat)`\n",
    "\n",
    "Happy Learning !!!"
   ]
  },
  {
   "cell_type": "markdown",
   "metadata": {
    "id": "wu0IyuCfcEGv"
   },
   "source": [
    "###  LIST"
   ]
  },
  {
   "cell_type": "markdown",
   "metadata": {
    "id": "fsFVyMKkcEGv"
   },
   "source": [
    "`Question:`:Create a list of numbers\n",
    "> nums = [1,2,3,4]"
   ]
  },
  {
   "cell_type": "code",
   "execution_count": 1,
   "metadata": {
    "colab": {
     "base_uri": "https://localhost:8080/"
    },
    "id": "Kaa6QmCycEGw",
    "outputId": "524288e7-7f0a-4e78-c215-471091cd0d17"
   },
   "outputs": [
    {
     "data": {
      "text/plain": [
       "[1, 2, 3, 4]"
      ]
     },
     "execution_count": 1,
     "metadata": {},
     "output_type": "execute_result"
    }
   ],
   "source": [
    "nums = [1,2,3,4]\n",
    "nums"
   ]
  },
  {
   "cell_type": "markdown",
   "metadata": {
    "id": "nmQFp77NcEGy"
   },
   "source": [
    "** `Question:` Remove number \"3\" in a list**"
   ]
  },
  {
   "cell_type": "code",
   "execution_count": 2,
   "metadata": {
    "colab": {
     "base_uri": "https://localhost:8080/"
    },
    "id": "1oDXz3dNcEGz",
    "outputId": "b9e25098-7a13-498e-8884-d67a8c45c82d"
   },
   "outputs": [
    {
     "name": "stdout",
     "output_type": "stream",
     "text": [
      "[1, 2, 4]\n"
     ]
    }
   ],
   "source": [
    "# Method 1\n",
    "nums = [1, 2, 3, 4]\n",
    "nums.remove(3)\n",
    "print(nums)"
   ]
  },
  {
   "cell_type": "code",
   "execution_count": 3,
   "metadata": {
    "colab": {
     "base_uri": "https://localhost:8080/"
    },
    "id": "rg2koaZfcEG0",
    "outputId": "d870918f-f9b8-4477-8c69-7431625f4f06"
   },
   "outputs": [
    {
     "name": "stdout",
     "output_type": "stream",
     "text": [
      "[1, 2, 4]\n"
     ]
    }
   ],
   "source": [
    "# Method 2\n",
    "nums = [1, 2, 3, 4]\n",
    "nums.pop(2)\n",
    "print(nums)"
   ]
  },
  {
   "cell_type": "code",
   "execution_count": 4,
   "metadata": {
    "colab": {
     "base_uri": "https://localhost:8080/"
    },
    "id": "4-Fx9PrTcEG0",
    "outputId": "f79afb14-f445-4de4-ae1c-621bb82cd87a"
   },
   "outputs": [
    {
     "name": "stdout",
     "output_type": "stream",
     "text": [
      "[1, 2, 4]\n"
     ]
    }
   ],
   "source": [
    "# Method 3\n",
    "nums = [1, 2, 3, 4]\n",
    "del nums[2]\n",
    "print(nums)"
   ]
  },
  {
   "cell_type": "markdown",
   "metadata": {
    "id": "NeslU4JPcEG1"
   },
   "source": [
    "**`Question:` :Insert number \"1\" in 0th position**\n",
    "- lst = [2,3,4]"
   ]
  },
  {
   "cell_type": "code",
   "execution_count": 5,
   "metadata": {
    "colab": {
     "base_uri": "https://localhost:8080/"
    },
    "id": "3Ws7dQr5cEG1",
    "outputId": "6c4cc32b-99bb-4fc1-8fcb-facf02b371cb"
   },
   "outputs": [
    {
     "data": {
      "text/plain": [
       "[1, 2, 3, 4]"
      ]
     },
     "execution_count": 5,
     "metadata": {},
     "output_type": "execute_result"
    }
   ],
   "source": [
    "lst = [2,3,4]\n",
    "lst.insert(0, 1)\n",
    "lst"
   ]
  },
  {
   "cell_type": "markdown",
   "metadata": {
    "id": "14zm7s_jcEG1"
   },
   "source": [
    "**`Question:` Insert \"two-and-half\" in 2nd position**"
   ]
  },
  {
   "cell_type": "code",
   "execution_count": 6,
   "metadata": {
    "colab": {
     "base_uri": "https://localhost:8080/"
    },
    "id": "oEkTY6tLcEG1",
    "outputId": "1718a54b-f0d3-43b4-bb4b-8267018ee324"
   },
   "outputs": [
    {
     "data": {
      "text/plain": [
       "[1, 2, 'two-and-half', 3, 4]"
      ]
     },
     "execution_count": 6,
     "metadata": {},
     "output_type": "execute_result"
    }
   ],
   "source": [
    "lst.insert(2, \"two-and-half\")\n",
    "lst"
   ]
  },
  {
   "cell_type": "markdown",
   "metadata": {
    "id": "2Cg_epjscEG2"
   },
   "source": [
    "**`Question:` phrase = \"Don't panic!\"**\n",
    "- **Convert above text into list**"
   ]
  },
  {
   "cell_type": "code",
   "execution_count": 7,
   "metadata": {
    "id": "aB8Ym8QCcEG2"
   },
   "outputs": [],
   "source": [
    "# CODE HERE\n",
    "phrase = \"Don't panic!\""
   ]
  },
  {
   "cell_type": "markdown",
   "metadata": {
    "id": "ANRIGcxqcEG2"
   },
   "source": [
    "*convert into list*"
   ]
  },
  {
   "cell_type": "code",
   "execution_count": 8,
   "metadata": {
    "colab": {
     "base_uri": "https://localhost:8080/"
    },
    "id": "35dNnJ2ScEG2",
    "outputId": "10f43b81-e6bb-4004-9fcb-c2efd5cb1c61"
   },
   "outputs": [
    {
     "data": {
      "text/plain": [
       "['D', 'o', 'n', \"'\", 't', ' ', 'p', 'a', 'n', 'i', 'c', '!']"
      ]
     },
     "execution_count": 8,
     "metadata": {},
     "output_type": "execute_result"
    }
   ],
   "source": [
    "phrase=list(phrase)\n",
    "phrase"
   ]
  },
  {
   "cell_type": "markdown",
   "metadata": {
    "id": "kFC4-JyHcEG3"
   },
   "source": [
    "`Question:` Remove ** '** and **!** in the list"
   ]
  },
  {
   "cell_type": "code",
   "execution_count": 9,
   "metadata": {
    "id": "ulKJd_4kcEG3"
   },
   "outputs": [],
   "source": [
    "phrase.remove(\"'\")"
   ]
  },
  {
   "cell_type": "code",
   "execution_count": 10,
   "metadata": {
    "colab": {
     "base_uri": "https://localhost:8080/"
    },
    "id": "47_CfvmBcEG3",
    "outputId": "59ee920f-61c3-4c09-877c-cbd155e738eb"
   },
   "outputs": [
    {
     "data": {
      "text/plain": [
       "['D', 'o', 'n', 't', ' ', 'p', 'a', 'n', 'i', 'c', '!']"
      ]
     },
     "execution_count": 10,
     "metadata": {},
     "output_type": "execute_result"
    }
   ],
   "source": [
    "phrase"
   ]
  },
  {
   "cell_type": "markdown",
   "metadata": {
    "id": "H-RM0F_ScEG3"
   },
   "source": [
    "**`Question:` Remove \"p\" , \"a\", \"n\",\"D\" and extend at the last**"
   ]
  },
  {
   "cell_type": "code",
   "execution_count": 11,
   "metadata": {
    "id": "oOaLPXClcEG3"
   },
   "outputs": [],
   "source": [
    "# CODE HERE\n",
    "remove_list = ['p', 'a', 'n', 'D']\n",
    "\n",
    "for alphabet in remove_list:\n",
    "  phrase.remove(alphabet)"
   ]
  },
  {
   "cell_type": "code",
   "execution_count": 12,
   "metadata": {
    "colab": {
     "base_uri": "https://localhost:8080/"
    },
    "id": "y3kzaJELSWUX",
    "outputId": "53556db8-fa87-4380-b88e-f29aab5c7bf3"
   },
   "outputs": [
    {
     "name": "stdout",
     "output_type": "stream",
     "text": [
      "['o', 't', ' ', 'n', 'i', 'c', '!', 'p', 'a', 'n', 'D']\n"
     ]
    }
   ],
   "source": [
    "phrase.extend(remove_list)\n",
    "print(phrase)"
   ]
  },
  {
   "cell_type": "markdown",
   "metadata": {
    "id": "vhRxed3zcEG4"
   },
   "source": [
    "**`Question:` Join the given list ['p', 'a', 'n', 'D', 'a']**"
   ]
  },
  {
   "cell_type": "code",
   "execution_count": 33,
   "metadata": {
    "colab": {
     "base_uri": "https://localhost:8080/"
    },
    "id": "sWFetDRbcEG5",
    "outputId": "725a703c-c7d3-4f57-8e84-27f3101fe90e"
   },
   "outputs": [
    {
     "name": "stdout",
     "output_type": "stream",
     "text": [
      "panDa\n"
     ]
    }
   ],
   "source": [
    "my_list = ['p', 'a', 'n', 'D', 'a']\n",
    "\n",
    "string1 = ''.join(my_list)\n",
    "\n",
    "print(string1)"
   ]
  },
  {
   "cell_type": "markdown",
   "metadata": {
    "id": "RNzsWP4HcEG5"
   },
   "source": [
    "###  Tuples"
   ]
  },
  {
   "cell_type": "markdown",
   "metadata": {
    "id": "A6rtIftZcEG5"
   },
   "source": [
    "**`Question:` Create a tuples for numbers 31,24,35,85 as nums**"
   ]
  },
  {
   "cell_type": "code",
   "execution_count": 14,
   "metadata": {
    "colab": {
     "base_uri": "https://localhost:8080/"
    },
    "id": "-bNGId1pcEG6",
    "outputId": "1eadc7ca-3350-4be3-e083-a1948c7b5955"
   },
   "outputs": [
    {
     "name": "stdout",
     "output_type": "stream",
     "text": [
      "(31, 24, 35, 85)\n"
     ]
    }
   ],
   "source": [
    "# CODE HERE\n",
    "nums = (31, 24, 35, 85)\n",
    "print(nums)"
   ]
  },
  {
   "cell_type": "code",
   "execution_count": 14,
   "metadata": {
    "id": "8mLlltxscEG6"
   },
   "outputs": [],
   "source": []
  },
  {
   "cell_type": "markdown",
   "metadata": {
    "id": "GQvY7FFscEG7"
   },
   "source": [
    "**`Question:` Remove number \"35\" in a tuple**\n",
    "\n",
    "*Hint:* Convert into list"
   ]
  },
  {
   "cell_type": "code",
   "execution_count": 15,
   "metadata": {
    "colab": {
     "base_uri": "https://localhost:8080/"
    },
    "id": "DGrdOc6TcEG7",
    "outputId": "99a304ee-e2b7-4725-8b66-16509f281b64"
   },
   "outputs": [
    {
     "data": {
      "text/plain": [
       "[31, 24, 85]"
      ]
     },
     "execution_count": 15,
     "metadata": {},
     "output_type": "execute_result"
    }
   ],
   "source": [
    "# CODE HERE\n",
    "\n",
    "nums = (31, 24, 35, 85)\n",
    "\n",
    "nums_list = list(nums)\n",
    "\n",
    "nums_list.remove(35)\n",
    "nums_list"
   ]
  },
  {
   "cell_type": "code",
   "execution_count": 16,
   "metadata": {
    "colab": {
     "base_uri": "https://localhost:8080/"
    },
    "id": "GWzMa208cEG8",
    "outputId": "5246ff5e-de25-41d0-c365-a59bcba03774"
   },
   "outputs": [
    {
     "data": {
      "text/plain": [
       "(31, 24, 85)"
      ]
     },
     "execution_count": 16,
     "metadata": {},
     "output_type": "execute_result"
    }
   ],
   "source": [
    "nums = tuple(nums_list)\n",
    "nums"
   ]
  },
  {
   "cell_type": "markdown",
   "metadata": {
    "id": "xM8_nHBWcEG8"
   },
   "source": [
    "**Extent** tuple (85,19)"
   ]
  },
  {
   "cell_type": "code",
   "execution_count": 17,
   "metadata": {
    "colab": {
     "base_uri": "https://localhost:8080/"
    },
    "id": "BL0NuC1icEG8",
    "outputId": "d8851f52-5e08-49f7-f518-bf4c7ddd278d"
   },
   "outputs": [
    {
     "name": "stdout",
     "output_type": "stream",
     "text": [
      "(31, 24, 85, 85, 19)\n"
     ]
    }
   ],
   "source": [
    "# CODE HERE\n",
    "nums_list = list(nums)\n",
    "s=(85,19)\n",
    "nums_list.extend(s)\n",
    "nums = tuple(nums_list)\n",
    "\n",
    "print(nums)"
   ]
  },
  {
   "cell_type": "markdown",
   "metadata": {
    "id": "K4eN-pErcEG8"
   },
   "source": [
    "**`Question:` Write code to check whether an element ('i') exists within a tuple.**\n",
    "- tpl = ('i','n''n','0')"
   ]
  },
  {
   "cell_type": "code",
   "execution_count": 18,
   "metadata": {
    "colab": {
     "base_uri": "https://localhost:8080/"
    },
    "id": "diT_JD_gcEG9",
    "outputId": "696d0aac-9d1b-4ee2-921a-dd11909926df"
   },
   "outputs": [
    {
     "name": "stdout",
     "output_type": "stream",
     "text": [
      "i exists in tuple\n"
     ]
    }
   ],
   "source": [
    "# CODE HERE\n",
    "tpl = ('i','n''n','0')\n",
    "if \"i\" in tpl:\n",
    "  print(\"i exists in tuple\" )\n",
    "else:\n",
    " print('it does not ')"
   ]
  },
  {
   "cell_type": "markdown",
   "metadata": {
    "id": "YmplZKZmcEHH"
   },
   "source": [
    "**`Question:` Write a python code to replace/insert the value**\n",
    "- list = ['Hello',100,[],'innomatics']"
   ]
  },
  {
   "cell_type": "code",
   "execution_count": 19,
   "metadata": {
    "colab": {
     "base_uri": "https://localhost:8080/"
    },
    "id": "d4gZZmfkcEHH",
    "outputId": "d9543262-570f-4566-9bce-2e3f75d867b3"
   },
   "outputs": [
    {
     "data": {
      "text/plain": [
       "['Hello', 100, [200], 'innomatics']"
      ]
     },
     "execution_count": 19,
     "metadata": {},
     "output_type": "execute_result"
    }
   ],
   "source": [
    "# CODE HERE\n",
    "list = ['Hello',100,[],'innomatics']\n",
    "list[2] = [200]\n",
    "list"
   ]
  },
  {
   "cell_type": "markdown",
   "metadata": {
    "id": "xfFtEIoHcEHH"
   },
   "source": [
    "**`Question:` Write a Python program to reverse a tuple.**"
   ]
  },
  {
   "cell_type": "code",
   "execution_count": 20,
   "metadata": {
    "colab": {
     "base_uri": "https://localhost:8080/"
    },
    "id": "-KglV4aKcEHH",
    "outputId": "b48cbee3-f8b1-4ee7-82b4-2196a7138926"
   },
   "outputs": [
    {
     "data": {
      "text/plain": [
       "('s', 'c', 'i', 't', 'a', 'm', 'o', 'n', 'n', 'I')"
      ]
     },
     "execution_count": 20,
     "metadata": {},
     "output_type": "execute_result"
    }
   ],
   "source": [
    "# CODE HERE\n",
    "tpl = (\"Innomatics\")\n",
    "\n",
    "tpl= tpl[::-1]\n",
    "\n",
    "tuple(tpl)\n"
   ]
  },
  {
   "cell_type": "code",
   "execution_count": 20,
   "metadata": {
    "id": "9JsMnSndcEHI"
   },
   "outputs": [],
   "source": []
  },
  {
   "cell_type": "code",
   "execution_count": 21,
   "metadata": {
    "colab": {
     "base_uri": "https://localhost:8080/"
    },
    "id": "V21KiAVzcEHI",
    "outputId": "0576ec28-77da-403a-b580-e4fcfa6db009"
   },
   "outputs": [
    {
     "data": {
      "text/plain": [
       "(1, 2, 3, 4)"
      ]
     },
     "execution_count": 21,
     "metadata": {},
     "output_type": "execute_result"
    }
   ],
   "source": [
    "tpl = (1,2,3)+(4,)\n",
    "tpl"
   ]
  },
  {
   "cell_type": "markdown",
   "metadata": {
    "id": "P-dt0od5cEHI"
   },
   "source": [
    "**`Question:` Write a Python program to add one more value at last postion of tuples in a list**\n",
    "- tpl = [(10, 20, 40), (40, 50, 60), (70, 80, 90)]\n",
    "- `hint- use for loop`"
   ]
  },
  {
   "cell_type": "code",
   "execution_count": 22,
   "metadata": {
    "id": "R7I3TWpXcEHJ"
   },
   "outputs": [],
   "source": [
    "# CODE HERE\n",
    "tpl = [(10, 20, 40), (40, 50, 60), (70, 80, 90)]\n"
   ]
  },
  {
   "cell_type": "code",
   "execution_count": 23,
   "metadata": {
    "colab": {
     "base_uri": "https://localhost:8080/"
    },
    "id": "M6RX5qO5cEHJ",
    "outputId": "97c92acd-6dd5-4041-b064-60f95163332f"
   },
   "outputs": [
    {
     "name": "stdout",
     "output_type": "stream",
     "text": [
      "[(10, 20, 40, 100), (40, 50, 60, 100), (70, 80, 90, 100)]\n"
     ]
    }
   ],
   "source": [
    "value= 100\n",
    "tpl_2 = []\n",
    "for t in tpl:\n",
    "  tpl_2.append(t + (value,))\n",
    "print(tpl_2)"
   ]
  },
  {
   "cell_type": "markdown",
   "metadata": {
    "id": "iKbSyNnZcEHK"
   },
   "source": [
    "**`Question:` Write a Python program to replace last value of tuples in a list**\n",
    "- tpl = [(10, 20, 40), (40, 50, 60), (70, 80, 90)]\n",
    "- `hint- use for loop`"
   ]
  },
  {
   "cell_type": "code",
   "execution_count": 24,
   "metadata": {
    "id": "opTdFFvccEHK"
   },
   "outputs": [],
   "source": [
    "# CODE HERE\n",
    "tpl = [(10, 20, 40), (40, 50, 60), (70, 80, 90)]"
   ]
  },
  {
   "cell_type": "code",
   "execution_count": 25,
   "metadata": {
    "colab": {
     "base_uri": "https://localhost:8080/"
    },
    "id": "O8U3IUdtcEHK",
    "outputId": "8316c419-be43-4bcf-f363-5376e8186533"
   },
   "outputs": [
    {
     "name": "stdout",
     "output_type": "stream",
     "text": [
      "[(10, 20, 100), (40, 50, 100), (70, 80, 100)]\n"
     ]
    }
   ],
   "source": [
    "value = 100\n",
    "\n",
    "tpl_2 = []\n",
    "\n",
    "for t in tpl:\n",
    "  var1= t[:-1] + (value,)\n",
    "  tpl_2.append(var1)\n",
    "\n",
    "print(tpl_2)"
   ]
  },
  {
   "cell_type": "markdown",
   "metadata": {
    "id": "GNdP9hLOcEHK"
   },
   "source": [
    "### `Question:` If the following string is given as input to the program:\n",
    "\n",
    "- '5 2 3 6 6 5'\n",
    "\n",
    "#### FInd the secong higest value from that"
   ]
  },
  {
   "cell_type": "code",
   "execution_count": 26,
   "metadata": {
    "colab": {
     "base_uri": "https://localhost:8080/"
    },
    "id": "BEvQ-4H9cEHK",
    "outputId": "75468612-9c96-447d-f13c-ce68129ab1e3"
   },
   "outputs": [
    {
     "name": "stdout",
     "output_type": "stream",
     "text": [
      "6\n"
     ]
    }
   ],
   "source": [
    "# CODE HERE\n",
    "value='5 2 3 6 6 5'\n",
    "\n",
    "value=value.split()\n",
    "value.sort(reverse=True)\n",
    "value\n",
    "second_highest = value[1]\n",
    "print(second_highest)"
   ]
  },
  {
   "cell_type": "markdown",
   "metadata": {
    "id": "mhEjTJlScEHL"
   },
   "source": [
    "### `Question:` By using list comprehension, please write a program to print the list after removing the 0th,4th,5th numbers in [12,24,35,70,88,120,155]."
   ]
  },
  {
   "cell_type": "code",
   "execution_count": 27,
   "metadata": {
    "colab": {
     "base_uri": "https://localhost:8080/"
    },
    "id": "IPxZlSA0cEHL",
    "outputId": "7738f718-d6d2-4096-8c55-b077dca8dc06"
   },
   "outputs": [
    {
     "name": "stdout",
     "output_type": "stream",
     "text": [
      "[24, 35, 70, 155]\n"
     ]
    }
   ],
   "source": [
    "list1 = [12, 24, 35, 70, 88, 120, 155]\n",
    "\n",
    "list2 = list1[1:4] + list1[6:]\n",
    "print(list2)"
   ]
  },
  {
   "cell_type": "markdown",
   "metadata": {
    "id": "vuAM1FuBcEHL"
   },
   "source": [
    "### `Question:` With a given tuple (1,2,3,4,5,6,7,8,9,10), write a program to print the first half values in one line and the last half values in one line."
   ]
  },
  {
   "cell_type": "code",
   "execution_count": 28,
   "metadata": {
    "colab": {
     "base_uri": "https://localhost:8080/"
    },
    "id": "-uzx2ps1cEHL",
    "outputId": "2a0e2f6c-6a41-4d04-b99c-a75c7feaa163"
   },
   "outputs": [
    {
     "name": "stdout",
     "output_type": "stream",
     "text": [
      "(1, 2, 3, 4, 5) (6, 7, 8, 9, 10)\n"
     ]
    }
   ],
   "source": [
    "tuple1 = (1, 2, 3, 4, 5, 6, 7, 8, 9, 10)\n",
    "\n",
    "middle= len(tuple1) // 2\n",
    "\n",
    "print(tuple1[:middle],tuple1[middle:])\n"
   ]
  },
  {
   "cell_type": "markdown",
   "metadata": {
    "id": "I58VBwuHcEHL"
   },
   "source": [
    "### `Question:` Write a program to generate and print another tuple whose values are even numbers in the given tuple (1,2,3,4,5,6,7,8,9,10)"
   ]
  },
  {
   "cell_type": "code",
   "execution_count": 29,
   "metadata": {
    "colab": {
     "base_uri": "https://localhost:8080/"
    },
    "id": "Z1SxDzFMcEHL",
    "outputId": "3d246a43-ca9b-4fdb-f292-47465187e8a8"
   },
   "outputs": [
    {
     "name": "stdout",
     "output_type": "stream",
     "text": [
      "(2, 4, 6, 8, 10)\n"
     ]
    }
   ],
   "source": [
    "tuple1 = (1, 2, 3, 4, 5, 6, 7, 8, 9, 10)\n",
    "\n",
    "even_tuple = ()\n",
    "for x in tuple1:\n",
    "  if x % 2 == 0:\n",
    "    even_tuple += (x,)\n",
    "\n",
    "print(even_tuple)\n"
   ]
  },
  {
   "cell_type": "markdown",
   "metadata": {
    "id": "fSDRKZCEcEHM"
   },
   "source": [
    "# `Descriptive Questions`"
   ]
  },
  {
   "cell_type": "markdown",
   "metadata": {
    "id": "ZUPHExFhcEHM"
   },
   "source": [
    "### 1. Explain the difference between list and tuple?"
   ]
  },
  {
   "cell_type": "markdown",
   "metadata": {
    "id": "YX3o8irORlVr"
   },
   "source": [
    "1.Lists are mutable while Tuples are immutable\n",
    "\n",
    "2.Lists are created using square brackets [] while Tuples are created using parentheses ()"
   ]
  },
  {
   "cell_type": "markdown",
   "metadata": {
    "id": "EBQ7sRx3cEHM"
   },
   "source": [
    "### 2. Explain the difference between append() and extend() with examples"
   ]
  },
  {
   "cell_type": "markdown",
   "metadata": {
    "id": "dNCyZR4fSQCb"
   },
   "source": [
    "The append() method adds a single element to the end of a list while extend() method can add either single or multiple elements to the end of a list"
   ]
  },
  {
   "cell_type": "markdown",
   "metadata": {
    "id": "eYZOAY3VcEHN"
   },
   "source": [
    "### 3. Explain the difference between pop() and remove() with examples"
   ]
  },
  {
   "cell_type": "markdown",
   "metadata": {
    "id": "0uLQR13lS0Ha"
   },
   "source": [
    "The pop() method is used to remove and return an element from a list while\n",
    "The remove() method is used to remove the first occurrence of a specified element from a list."
   ]
  },
  {
   "cell_type": "markdown",
   "metadata": {
    "id": "ry98OxfNcEHN"
   },
   "source": [
    "# [Innomatics Research Labs](https:/innomatics.in/)\n",
    "[www.innomatics.in](https:/innomatics.in/)"
   ]
  },
  {
   "cell_type": "code",
   "execution_count": 29,
   "metadata": {
    "id": "IuA2JkwbcEHN"
   },
   "outputs": [],
   "source": []
  }
 ],
 "metadata": {
  "colab": {
   "provenance": []
  },
  "kernelspec": {
   "display_name": "Python 3 (ipykernel)",
   "language": "python",
   "name": "python3"
  },
  "language_info": {
   "codemirror_mode": {
    "name": "ipython",
    "version": 3
   },
   "file_extension": ".py",
   "mimetype": "text/x-python",
   "name": "python",
   "nbconvert_exporter": "python",
   "pygments_lexer": "ipython3",
   "version": "3.9.7"
  }
 },
 "nbformat": 4,
 "nbformat_minor": 1
}
