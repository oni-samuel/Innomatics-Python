{
  "cells": [
    {
      "cell_type": "markdown",
      "metadata": {
        "id": "RmmXlflKejPC"
      },
      "source": [
        "# Assignment Instructions\n",
        "\n",
        "`Hello Innominion,`\n",
        "\n",
        "- **Try to attempt all the questions in every possible way.**\n",
        "- **Some other topics are required to solve some questions. don't panic.**\n",
        "- **Those questions can be answered after the topics are taught.**\n",
        "\n",
        "\n",
        "- `Join Mentoring Session for the Support/Doubts Resolving with Our Technical Mentors (2.00 PM - 6.00 PM  Mon-Sat)`\n",
        "\n",
        "Happy Learning !!!"
      ]
    },
    {
      "cell_type": "markdown",
      "metadata": {
        "id": "IukfNld1ejPH"
      },
      "source": [
        "###  Dictionary"
      ]
    },
    {
      "cell_type": "markdown",
      "metadata": {
        "id": "cX2U0t6eejPI"
      },
      "source": [
        "**`Question :`Create Dictionary for following information as \"person1\":**\n",
        "   - Name = John\n",
        "   - Gender= Male\n",
        "   - Occupation = Data Scientist\n",
        "   - Location  = Nizampet, Hyderabad"
      ]
    },
    {
      "cell_type": "code",
      "execution_count": null,
      "metadata": {
        "id": "tmy-d8WqejPI"
      },
      "outputs": [],
      "source": [
        "# CODE HERE\n",
        "person1 = {\"Name\": \"John\",\"Gender\": \"Male\",\"Occupation\": \"Data Scientist\",\"Location\": \"Nizampet, Hyderabad\"}"
      ]
    },
    {
      "cell_type": "code",
      "execution_count": null,
      "metadata": {
        "colab": {
          "base_uri": "https://localhost:8080/"
        },
        "id": "L_ervWXCejPK",
        "outputId": "a75d555e-a391-4f6c-ca76-90d1e47e060b"
      },
      "outputs": [
        {
          "output_type": "execute_result",
          "data": {
            "text/plain": [
              "{'Name': 'John',\n",
              " 'Gender': 'Male',\n",
              " 'Occupation': 'Data Scientist',\n",
              " 'Location': 'Nizampet, Hyderabad'}"
            ]
          },
          "metadata": {},
          "execution_count": 15
        }
      ],
      "source": [
        "person1"
      ]
    },
    {
      "cell_type": "markdown",
      "metadata": {
        "id": "iax6G6kHejPL"
      },
      "source": [
        "> print keys in person1 as a list"
      ]
    },
    {
      "cell_type": "code",
      "execution_count": null,
      "metadata": {
        "colab": {
          "base_uri": "https://localhost:8080/"
        },
        "id": "JulKg6ntejPL",
        "outputId": "8b2db175-d075-4888-b5fb-bd4b5b36c224"
      },
      "outputs": [
        {
          "output_type": "stream",
          "name": "stdout",
          "text": [
            "['Name', 'Gender', 'Occupation', 'Location']\n"
          ]
        }
      ],
      "source": [
        "# CODE HERE\n",
        "print(list(person1.keys()))"
      ]
    },
    {
      "cell_type": "markdown",
      "metadata": {
        "id": "AhmSXbEQejPM"
      },
      "source": [
        "> **`Question:` Remove Location in person1**"
      ]
    },
    {
      "cell_type": "code",
      "execution_count": null,
      "metadata": {
        "colab": {
          "base_uri": "https://localhost:8080/"
        },
        "id": "kCr62linejPN",
        "outputId": "79b4da9d-d5d3-48d1-9345-91500a5b590d"
      },
      "outputs": [
        {
          "output_type": "stream",
          "name": "stdout",
          "text": [
            "{'Name': 'John', 'Gender': 'Male', 'Occupation': 'Data Scientist'}\n"
          ]
        }
      ],
      "source": [
        "# CODE HERE\n",
        "del person1[\"Location\"]\n",
        "\n",
        "print(person1)"
      ]
    },
    {
      "cell_type": "code",
      "execution_count": null,
      "metadata": {
        "id": "dwXt0SG8ejPN",
        "outputId": "d8d7a377-4686-4fa3-efc0-ce18d6ccdaaa"
      },
      "outputs": [
        {
          "data": {
            "text/plain": [
              "{'Age': 27,\n",
              " 'Gender': 'Male',\n",
              " 'Name': 'Srikanth',\n",
              " 'Occupation': 'Data Scientist'}"
            ]
          },
          "execution_count": 6,
          "metadata": {},
          "output_type": "execute_result"
        }
      ],
      "source": []
    },
    {
      "cell_type": "markdown",
      "metadata": {
        "id": "pVKsnTKiejPN"
      },
      "source": [
        "> **`Question:` Create dictionary of person2 with**\n",
        "- Name  = Raghu Ram\n",
        "- Gender = Male\n",
        "- Age  = 25\n",
        "- Occupation = Data Scienctist"
      ]
    },
    {
      "cell_type": "code",
      "execution_count": null,
      "metadata": {
        "id": "7T1ScOMuejPO"
      },
      "outputs": [],
      "source": [
        "# CODE HERE\n",
        "person2={'Name':'Raghu Ram','Gender':'Male','Age':25,'Occupation':'Data Scientisst'}"
      ]
    },
    {
      "cell_type": "code",
      "execution_count": null,
      "metadata": {
        "colab": {
          "base_uri": "https://localhost:8080/"
        },
        "id": "brOZWoRdejPO",
        "outputId": "70035534-e1ea-460c-856a-c388ee47918d"
      },
      "outputs": [
        {
          "output_type": "stream",
          "name": "stdout",
          "text": [
            "{'Name': 'Raghu Ram', 'Gender': 'Male', 'Age': 25, 'Occupation': 'Data Scientisst'}\n"
          ]
        }
      ],
      "source": [
        "print(person2)"
      ]
    },
    {
      "cell_type": "markdown",
      "metadata": {
        "id": "RmKNEGYyejPO"
      },
      "source": [
        "> **`Question:` Print the output as show below**"
      ]
    },
    {
      "cell_type": "code",
      "execution_count": null,
      "metadata": {
        "colab": {
          "base_uri": "https://localhost:8080/"
        },
        "id": "RdjxtjElejPO",
        "outputId": "12704561-b0f2-4d56-f1a4-0eb2ec9923f7"
      },
      "outputs": [
        {
          "output_type": "stream",
          "name": "stdout",
          "text": [
            "==================== person1 ====================\n",
            "{'Name': 'John', 'Gender': 'Male', 'Occupation': 'Data Scientist', 'Location': 'Nizampet, Hyderabad'}\n",
            "==================== person2 ====================\n",
            "{'Name': 'Raghu Ram', 'Gender': 'Male', 'Age': 25, 'Occupation': 'Data Scientisst'}\n"
          ]
        }
      ],
      "source": [
        "# CODE HERE\n",
        "person1.update({'Location':'Nizampet, Hyderabad'})\n",
        "print(\"==================== person1 ====================\")\n",
        "print(person1)\n",
        "print(\"==================== person2 ====================\")\n",
        "print(person2)\n"
      ]
    },
    {
      "cell_type": "markdown",
      "metadata": {
        "id": "dyDaKgd7ejPP"
      },
      "source": [
        "# create a dictionary\n",
        "#### `Question:` remove the elements from that dictionary using different methods\n",
        "{1: 1, 2: 4, 3: 9, 4: 16, 5: 25,6:36,7:49}"
      ]
    },
    {
      "cell_type": "code",
      "execution_count": null,
      "metadata": {
        "id": "3JSLuwDkejPP"
      },
      "outputs": [],
      "source": [
        "# CODE HERE\n",
        "person3 = {1: 1, 2: 4, 3: 9, 4: 16, 5: 25, 6: 36, 7: 49}"
      ]
    },
    {
      "cell_type": "code",
      "source": [
        "del person3[1]\n",
        "print(person3)"
      ],
      "metadata": {
        "colab": {
          "base_uri": "https://localhost:8080/"
        },
        "id": "FRY3SG0foYme",
        "outputId": "1f7ac4d7-0abd-4251-969c-c86d8666f30e"
      },
      "execution_count": null,
      "outputs": [
        {
          "output_type": "stream",
          "name": "stdout",
          "text": [
            "{2: 4, 3: 9, 4: 16, 5: 25, 6: 36, 7: 49}\n"
          ]
        }
      ]
    },
    {
      "cell_type": "code",
      "source": [
        "person3.pop(2)\n",
        "print(person3)"
      ],
      "metadata": {
        "colab": {
          "base_uri": "https://localhost:8080/"
        },
        "id": "4BZqtz85obLX",
        "outputId": "c0a37a18-2cec-4ff4-b48b-922d7a050a9d"
      },
      "execution_count": null,
      "outputs": [
        {
          "output_type": "stream",
          "name": "stdout",
          "text": [
            "{3: 9, 4: 16, 5: 25, 6: 36, 7: 49}\n"
          ]
        }
      ]
    },
    {
      "cell_type": "code",
      "source": [
        "person3.clear()\n",
        "print(person3)"
      ],
      "metadata": {
        "colab": {
          "base_uri": "https://localhost:8080/"
        },
        "id": "GYL4_x5kokKd",
        "outputId": "72b0c43d-8e75-4c34-979f-f85b3795d107"
      },
      "execution_count": null,
      "outputs": [
        {
          "output_type": "stream",
          "name": "stdout",
          "text": [
            "{}\n"
          ]
        }
      ]
    },
    {
      "cell_type": "markdown",
      "metadata": {
        "id": "C4PfUKUnejPP"
      },
      "source": [
        "\n",
        "### `Question:` print the values from the given dictionary in descending order\n",
        "{0: 0, 1: 1, 3: 9, 5: 25, 7: 49, 9: 81}"
      ]
    },
    {
      "cell_type": "code",
      "execution_count": null,
      "metadata": {
        "id": "GiWyHMRxejPP"
      },
      "outputs": [],
      "source": [
        "person4 = {0: 0, 1: 1, 3: 9, 5: 25, 7: 49, 9: 81}"
      ]
    },
    {
      "cell_type": "code",
      "execution_count": null,
      "metadata": {
        "colab": {
          "base_uri": "https://localhost:8080/"
        },
        "id": "dXSadUwQejPQ",
        "outputId": "24b7f984-0c10-42d1-b8b3-df777d6f398f"
      },
      "outputs": [
        {
          "output_type": "stream",
          "name": "stdout",
          "text": [
            "[81, 49, 25, 9, 1, 0]\n"
          ]
        }
      ],
      "source": [
        "value= sorted(person4.values(), reverse=True)\n",
        "print(value)"
      ]
    },
    {
      "cell_type": "markdown",
      "metadata": {
        "id": "IR57LXJCejPQ"
      },
      "source": [
        "### `Question:` merge the below 3 dictionaries\n",
        "dict1 = { 'a': 1, 'b': 2 }\n",
        "dict2 = { 'b': 3, 'c': 4 }\n",
        "dict3 = { 'c': 5, 'd': 6 }"
      ]
    },
    {
      "cell_type": "code",
      "execution_count": null,
      "metadata": {
        "id": "81TaJH3jejPQ"
      },
      "outputs": [],
      "source": [
        "# CODE HERE\n",
        "dict1 = { 'a': 1, 'b': 2 }\n",
        "dict2 = { 'b': 3, 'c': 4 }\n",
        "dict3 = { 'c': 5, 'd': 6 }"
      ]
    },
    {
      "cell_type": "code",
      "execution_count": null,
      "metadata": {
        "colab": {
          "base_uri": "https://localhost:8080/"
        },
        "id": "wfd7a0TcejPQ",
        "outputId": "1d6b0a7e-b1ab-43d9-9e82-a4fa82c351b0"
      },
      "outputs": [
        {
          "output_type": "stream",
          "name": "stdout",
          "text": [
            "{'a': 1, 'b': 3, 'c': 5, 'd': 6}\n"
          ]
        }
      ],
      "source": [
        "person5= dict1.copy()\n",
        "person5.update(dict2)\n",
        "person5.update(dict3)\n",
        "print(person5)\n",
        "\n"
      ]
    },
    {
      "cell_type": "markdown",
      "metadata": {
        "id": "oe4ooSmwejPQ"
      },
      "source": [
        "**`Question:` change Charan’s salary to 8500 in the following dictionary**"
      ]
    },
    {
      "cell_type": "raw",
      "metadata": {
        "id": "DbpzaRIqejPR"
      },
      "source": [
        "sample_dict = {\n",
        "    'emp1': {'name': 'Jhony', 'salary': 7500},\n",
        "    'emp2': {'name': 'Ravi', 'salary': 8000},\n",
        "    'emp3': {'name': 'Charan', 'salary': 6500}\n",
        "}"
      ]
    },
    {
      "cell_type": "code",
      "execution_count": 1,
      "metadata": {
        "id": "H5wtsHoYejPR"
      },
      "outputs": [],
      "source": [
        "# CODE HERE\n",
        "person6={'emp1': {'name': 'Jhony', 'salary': 7500},\n",
        " 'emp2': {'name': 'Ravi', 'salary': 8000},\n",
        " 'emp3': {'name': 'Charan', 'salary': 6500}}"
      ]
    },
    {
      "cell_type": "code",
      "execution_count": null,
      "metadata": {
        "colab": {
          "base_uri": "https://localhost:8080/"
        },
        "id": "evJUSb4kejPR",
        "outputId": "65bc6883-f6ee-4ea2-87dd-0a42cca7e736"
      },
      "outputs": [
        {
          "output_type": "stream",
          "name": "stdout",
          "text": [
            "{'emp1': {'name': 'Jhony', 'salary': 7500}, 'emp2': {'name': 'Ravi', 'salary': 8000}, 'emp3': {'name': 'Charan', 'salary': 8500}}\n"
          ]
        }
      ],
      "source": [
        "person6['emp3']['salary']=8500\n",
        "print(person6)"
      ]
    },
    {
      "cell_type": "markdown",
      "metadata": {
        "id": "6SLUzaVHejPR"
      },
      "source": [
        "**`Question:` Print the value of key ‘history’ from the below dict**"
      ]
    },
    {
      "cell_type": "raw",
      "metadata": {
        "id": "YUtMPlmYejPR"
      },
      "source": [
        "sampleDict = {\n",
        "    \"class\": {\n",
        "        \"student\": {\n",
        "            \"name\": \"Mike\",\n",
        "            \"marks\": {\n",
        "                \"physics\": 70,\n",
        "                \"history\": 80\n",
        "            }\n",
        "        }\n",
        "    }\n",
        "}"
      ]
    },
    {
      "cell_type": "code",
      "execution_count": 4,
      "metadata": {
        "id": "9aRIz2J4ejPR"
      },
      "outputs": [],
      "source": [
        "# CODE HERE\n",
        "sampleDict = { \"class\": { \"student\": { \"name\": \"Mike\", \"marks\": { \"physics\": 70, \"history\": 80 } } } }"
      ]
    },
    {
      "cell_type": "code",
      "execution_count": 12,
      "metadata": {
        "id": "79kLwjL4ejPR",
        "outputId": "7ade2269-8cfd-45ef-a0d8-41ff1324260d",
        "colab": {
          "base_uri": "https://localhost:8080/"
        }
      },
      "outputs": [
        {
          "output_type": "execute_result",
          "data": {
            "text/plain": [
              "80"
            ]
          },
          "metadata": {},
          "execution_count": 12
        }
      ],
      "source": [
        "sampleDict['class']['student']['marks']['history']"
      ]
    },
    {
      "cell_type": "markdown",
      "metadata": {
        "id": "XSwJu0iFejPS"
      },
      "source": [
        "**`Question:` Rename a key Location to a Area in the following dictionary**"
      ]
    },
    {
      "cell_type": "raw",
      "metadata": {
        "id": "YBwm9HaUejPS"
      },
      "source": [
        "{'Gender': 'Male',\n",
        " 'Location': 'Nizampet, Hyderabad',\n",
        " 'Name': 'John',\n",
        " 'Occupation': 'Data Scientist'}"
      ]
    },
    {
      "cell_type": "code",
      "execution_count": 19,
      "metadata": {
        "id": "eL3FQYSQejPS"
      },
      "outputs": [],
      "source": [
        "# CODE HERE\n",
        "person7={'Gender': 'Male', 'Location': 'Nizampet, Hyderabad', 'Name': 'John', 'Occupation': 'Data Scientist'}"
      ]
    },
    {
      "cell_type": "code",
      "execution_count": 21,
      "metadata": {
        "id": "T98IOFjkejPS",
        "outputId": "1b633aaf-1319-489e-a16a-8f49eb7c0700",
        "colab": {
          "base_uri": "https://localhost:8080/"
        }
      },
      "outputs": [
        {
          "output_type": "stream",
          "name": "stdout",
          "text": [
            "{'Gender': 'Male', 'Name': 'John', 'Occupation': 'Data Scientist', 'Area': 'Nizampet, Hyderabad'}\n"
          ]
        }
      ],
      "source": [
        "person7 = dict(person7)\n",
        "person7['Area'] = person7['Location']\n",
        "del person7['Location']\n",
        "\n",
        "# Printing the updated dictionary\n",
        "print(person7)"
      ]
    },
    {
      "cell_type": "code",
      "execution_count": null,
      "metadata": {
        "id": "L8K_da4bejPT"
      },
      "outputs": [],
      "source": []
    },
    {
      "cell_type": "markdown",
      "metadata": {
        "id": "xjumXErLejPU"
      },
      "source": [
        "**`Question:` database = {'ram':1234,'raghu':5678,'kanav':1357}**\n",
        "## Tasks :-\n",
        "### 1. if the username and password matches print hello username\n",
        "### 2. if the username and password doesnot match, ask, you want me to add into the database\n",
        "### 3. show the updated database list\n"
      ]
    },
    {
      "cell_type": "code",
      "source": [
        "data= {\n",
        "    'john': 'password123',\n",
        "    'alice': 'password1234',\n",
        "    'bob': 'password12345'\n",
        "}\n",
        "\n",
        "username = input(\"Enter your username: \").strip()\n",
        "password = input(\"Enter your password: \").strip()\n",
        "\n",
        "if username in data.keys() and data[username] == password:\n",
        "  print('hello {}'.format(username))\n",
        "else:\n",
        "  new_user = input(\"Username and password do not match. Do you want me to add this into the database? (yes/no): \")\n",
        "  if new_user.lower() == 'yes':\n",
        "    data[username] = password\n",
        "print(data)"
      ],
      "metadata": {
        "id": "LVg8G_5xxAif",
        "colab": {
          "base_uri": "https://localhost:8080/"
        },
        "outputId": "fcf7931c-485f-45f1-b75f-a6f22a4972dd"
      },
      "execution_count": 27,
      "outputs": [
        {
          "output_type": "stream",
          "name": "stdout",
          "text": [
            "Enter your username: san\n",
            "Enter your password: fsvd\n",
            "Username and password do not match. Do you want me to add this into the database? (yes/no): yes\n",
            "{'john': 'password123', 'alice': 'password1234', 'bob': 'password12345', 'san': 'fsvd'}\n"
          ]
        }
      ]
    },
    {
      "cell_type": "markdown",
      "metadata": {
        "id": "FYc0HOAwejPU"
      },
      "source": [
        "# [Innomatics Research Labs](https:/innomatics.in/)\n",
        "[www.innomatics.in](https:/innomatics.in/)"
      ]
    },
    {
      "cell_type": "code",
      "execution_count": null,
      "metadata": {
        "id": "_T4ImMfPejPU"
      },
      "outputs": [],
      "source": []
    }
  ],
  "metadata": {
    "kernelspec": {
      "display_name": "Python 3",
      "language": "python",
      "name": "python3"
    },
    "language_info": {
      "codemirror_mode": {
        "name": "ipython",
        "version": 3
      },
      "file_extension": ".py",
      "mimetype": "text/x-python",
      "name": "python",
      "nbconvert_exporter": "python",
      "pygments_lexer": "ipython3",
      "version": "3.8.5"
    },
    "colab": {
      "provenance": []
    }
  },
  "nbformat": 4,
  "nbformat_minor": 0
}