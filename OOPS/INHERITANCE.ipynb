{
 "cells": [
  {
   "cell_type": "markdown",
   "metadata": {
    "id": "q7Td5ayA0Wq3"
   },
   "source": [
    "Create a class for arithmetic operations using different methods like addition(), subtraction()..etc."
   ]
  },
  {
   "cell_type": "code",
   "execution_count": 5,
   "metadata": {
    "colab": {
     "base_uri": "https://localhost:8080/"
    },
    "id": "POvrWsA8xrRj",
    "outputId": "4ad98b7d-8cb9-40c4-a075-b4b474b0abd4"
   },
   "outputs": [
    {
     "name": "stdout",
     "output_type": "stream",
     "text": [
      "Addition: 15\n",
      "Subtraction: 5\n",
      "Multiplication: 50\n",
      "Division: 2.0\n"
     ]
    }
   ],
   "source": [
    "class ArithmeticOperations:\n",
    "    def __init__(self,x,y):\n",
    "        self.value1=x\n",
    "        self.value2=y\n",
    "    def addition(self):\n",
    "        return self.value1+self.value2\n",
    "    def subtraction(self):\n",
    "        return self.value1-self.value2\n",
    "    def multiplication(self):\n",
    "        return self.value1*self.value2\n",
    "    def division(self):\n",
    "        return self.value1/self.value2\n",
    "\n",
    "\n",
    "op =ArithmeticOperations(10, 5)\n",
    "\n",
    "print(\"Addition:\", op.addition())\n",
    "print(\"Subtraction:\", op.subtraction())\n",
    "print(\"Multiplication:\", op.multiplication())\n",
    "print(\"Division:\", op.division())"
   ]
  },
  {
   "cell_type": "markdown",
   "metadata": {
    "id": "QUutNboo2bTw"
   },
   "source": [
    "Define a base class 'Vehicle'  with attributes color and model. Create a derived class 'Car' that inherits from 'Vehicle' and adds an attribute num_doors."
   ]
  },
  {
   "cell_type": "code",
   "execution_count": 4,
   "metadata": {
    "colab": {
     "base_uri": "https://localhost:8080/"
    },
    "id": "eJnqVbxk1J5M",
    "outputId": "f29c1a25-b212-4cbb-90f7-d5287e072428"
   },
   "outputs": [
    {
     "name": "stdout",
     "output_type": "stream",
     "text": [
      "color=Red,model=2024,num_door=8\n"
     ]
    }
   ],
   "source": [
    "class vehicle:\n",
    "    def __init__(self,color,model):\n",
    "       self.color=color\n",
    "       self.model=model\n",
    "class car(vehicle):\n",
    "    def __init__(self,color,model,num_doors):\n",
    "       super().__init__(color,model)\n",
    "       self.num_doors=num_doors\n",
    "    def __str__(self):\n",
    "       return \"color={},model={},num_door={}\".format(self.color,self.model,self.num_doors)\n",
    "\n",
    "x=car(\"Red\",2024,8)\n",
    "print(x)"
   ]
  },
  {
   "cell_type": "markdown",
   "metadata": {
    "id": "QBWba8Oh51kp"
   },
   "source": [
    "Create two base classes. One base class is 'Person' with attributes name and age. Another class is 'Address' with attributes city and country. Define a derived class 'Employee' that inherits from both Person and Address. In 'Employee' class add an attribute job."
   ]
  },
  {
   "cell_type": "code",
   "execution_count": 3,
   "metadata": {
    "colab": {
     "base_uri": "https://localhost:8080/"
    },
    "id": "JhylGxUM5vJn",
    "outputId": "1b4bb180-dad1-4b1e-c4a9-c54e8e561599"
   },
   "outputs": [
    {
     "name": "stdout",
     "output_type": "stream",
     "text": [
      "Employee: Samuel, Age: 25, City: Lagos, Country: Nigeria, Job: Data Scientist\n"
     ]
    }
   ],
   "source": [
    "class Person:\n",
    "    def __init__(self, name, age):\n",
    "        self.name = name\n",
    "        self.age = age\n",
    "\n",
    "class Address:\n",
    "    def __init__(self, city, country):\n",
    "        self.city = city\n",
    "        self.country = country\n",
    "\n",
    "class Employee(Person, Address):\n",
    "    def __init__(self, name, age, city, country, job):\n",
    "        Person.__init__(self, name, age)\n",
    "        Address.__init__(self, city, country)\n",
    "        self.job = job\n",
    "\n",
    "    def display_info(self):\n",
    "        print(f\"Employee: {self.name}, Age: {self.age}, City: {self.city}, Country: {self.country}, Job: {self.job}\")\n",
    "\n",
    "employee = Employee(\"Samuel\", 25, \"Lagos\", \"Nigeria\", \"Data Scientist\")\n",
    "employee.display_info()\n"
   ]
  },
  {
   "cell_type": "code",
   "execution_count": null,
   "metadata": {
    "id": "XQDJjbwt7Lga"
   },
   "outputs": [],
   "source": []
  }
 ],
 "metadata": {
  "colab": {
   "provenance": []
  },
  "kernelspec": {
   "display_name": "Python 3 (ipykernel)",
   "language": "python",
   "name": "python3"
  },
  "language_info": {
   "codemirror_mode": {
    "name": "ipython",
    "version": 3
   },
   "file_extension": ".py",
   "mimetype": "text/x-python",
   "name": "python",
   "nbconvert_exporter": "python",
   "pygments_lexer": "ipython3",
   "version": "3.9.7"
  }
 },
 "nbformat": 4,
 "nbformat_minor": 1
}
