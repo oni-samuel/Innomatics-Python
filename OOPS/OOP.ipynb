{
  "nbformat": 4,
  "nbformat_minor": 0,
  "metadata": {
    "colab": {
      "provenance": []
    },
    "kernelspec": {
      "name": "python3",
      "display_name": "Python 3"
    },
    "language_info": {
      "name": "python"
    }
  },
  "cells": [
    {
      "cell_type": "markdown",
      "source": [
        "Write a Python program to create a ‘Vehicle’ class with static variables max_speed and mileage instance attributes. Print the attributes.\n",
        "Example output:\n",
        "max_speed = 240\n",
        "mileage = 18\n"
      ],
      "metadata": {
        "id": "x9Ntp5fAcK9E"
      }
    },
    {
      "cell_type": "code",
      "execution_count": 3,
      "metadata": {
        "colab": {
          "base_uri": "https://localhost:8080/"
        },
        "id": "U9nkJ_micH_8",
        "outputId": "b392a8e1-e403-4ebe-c683-234bec6983c8"
      },
      "outputs": [
        {
          "output_type": "stream",
          "name": "stdout",
          "text": [
            "max_speed= 240\n",
            "mileage= 18\n"
          ]
        }
      ],
      "source": [
        "class vehicle:\n",
        "  max_speed=240\n",
        "\n",
        "  def __init__(self,mileage):\n",
        "    self.mileage=mileage\n",
        "\n",
        "my_vehicle=vehicle(18)\n",
        "\n",
        "print(\"max_speed=\",(vehicle.max_speed))\n",
        "print(\"mileage=\",(my_vehicle.mileage))"
      ]
    },
    {
      "cell_type": "markdown",
      "source": [
        "Create a Python class called 'Car' with attributes 'make' and 'model'. Instantiate an object of this class and print its attributes.\n",
        "Expand the 'Car' class by adding a method called ‘display_info’ that prints the make and model of the car. Create an object and call this method.\n"
      ],
      "metadata": {
        "id": "3A6ifcYxgtzd"
      }
    },
    {
      "cell_type": "code",
      "source": [
        "class car:\n",
        "  make='Toyota'\n",
        "  model=2024\n",
        "\n",
        "car1=car()\n",
        "\n",
        "print('make: ', car1.make)\n",
        "print('model: ', car1.model)\n"
      ],
      "metadata": {
        "colab": {
          "base_uri": "https://localhost:8080/"
        },
        "id": "z1k4NtibeaOt",
        "outputId": "a8b8951a-f26d-4ab4-a3b3-bb907006d4f3"
      },
      "execution_count": 7,
      "outputs": [
        {
          "output_type": "stream",
          "name": "stdout",
          "text": [
            "make:  Toyota\n",
            "model:  2024\n"
          ]
        }
      ]
    },
    {
      "cell_type": "markdown",
      "source": [
        "Expand the 'Car' class by adding a method called ‘display_info’ that prints the make and model of the car. Create an object and call this method.\n"
      ],
      "metadata": {
        "id": "As2rF0UpkjXP"
      }
    },
    {
      "cell_type": "code",
      "source": [
        "class Car:\n",
        "    make = 'Toyota'\n",
        "    model = 2024\n",
        "\n",
        "    def display_info(self):\n",
        "        print('Make: {}\\nModel: {}'.format(self.make, self.model))\n",
        "\n",
        "my_car = Car()\n",
        "\n",
        "my_car.display_info()\n"
      ],
      "metadata": {
        "colab": {
          "base_uri": "https://localhost:8080/"
        },
        "id": "0HHAmgVVj3iU",
        "outputId": "bea04b99-6962-499b-ca02-0cfc2cf2fe8b"
      },
      "execution_count": 17,
      "outputs": [
        {
          "output_type": "stream",
          "name": "stdout",
          "text": [
            "Make: Toyota\n",
            "Model: 2024\n"
          ]
        }
      ]
    },
    {
      "cell_type": "markdown",
      "source": [
        "Modify the ‘Car’ class to include a constructor (__init__) that initializes the make and model attributes. Instantiate an object using the constructor.\n",
        "Add a method 'get_total_cars' to the 'Car' class that returns the total number of cars created.\n"
      ],
      "metadata": {
        "id": "vQjE2-8jr9QX"
      }
    },
    {
      "cell_type": "code",
      "source": [
        "class Car:\n",
        "    total_cars = 0\n",
        "\n",
        "    def __init__(self, make, model):\n",
        "        self.make = make\n",
        "        self.model = model\n",
        "        Car.total_cars += 1\n",
        "\n",
        "    def display_info(self):\n",
        "        print('Make: {}\\nModel: {}'.format(self.make, self.model))\n",
        "\n",
        "    @classmethod\n",
        "    def total_car(cls):\n",
        "        return cls.total_cars\n",
        "\n",
        "\n",
        "car1 = Car(\"Toyota\", \"Camry\")\n",
        "car2 = Car(\"Honda\", \"Civic\")\n",
        "\n",
        "\n",
        "car1.display_info()\n",
        "car2.display_info()\n",
        "\n",
        "\n",
        "print(\"Total cars created:\", Car.total_car())\n"
      ],
      "metadata": {
        "colab": {
          "base_uri": "https://localhost:8080/"
        },
        "id": "cUsGXbmDmYTF",
        "outputId": "e76af60c-1673-4f7c-d58b-8a782defe5e2"
      },
      "execution_count": 20,
      "outputs": [
        {
          "output_type": "stream",
          "name": "stdout",
          "text": [
            "Make: Toyota\n",
            "Model: Camry\n",
            "Make: Honda\n",
            "Model: Civic\n",
            "Total cars created: 2\n"
          ]
        }
      ]
    },
    {
      "cell_type": "code",
      "source": [],
      "metadata": {
        "id": "23XlK_77vt8B"
      },
      "execution_count": null,
      "outputs": []
    }
  ]
}