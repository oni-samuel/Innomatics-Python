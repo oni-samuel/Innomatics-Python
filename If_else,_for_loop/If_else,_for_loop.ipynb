{
 "cells": [
  {
   "cell_type": "markdown",
   "metadata": {
    "id": "bHVLIiINOoGo"
   },
   "source": [
    "# IF , ELSE.... FOR LOOP"
   ]
  },
  {
   "cell_type": "markdown",
   "metadata": {
    "id": "my6IM9WTOoG1"
   },
   "source": [
    "> print this is hour in current minute is odd"
   ]
  },
  {
   "cell_type": "code",
   "execution_count": 11,
   "metadata": {
    "colab": {
     "base_uri": "https://localhost:8080/"
    },
    "id": "v9gw761cQYRl",
    "outputId": "07b84695-f27e-44e5-b845-2dfcd97ef12e"
   },
   "outputs": [
    {
     "name": "stdout",
     "output_type": "stream",
     "text": [
      "This is odd minute\n"
     ]
    }
   ],
   "source": [
    "minute = 53\n",
    "\n",
    "if minute % 2 == 0:\n",
    "    print(\"This is hour\")\n",
    "else:\n",
    "    print(\"This is odd minute\")\n"
   ]
  },
  {
   "cell_type": "markdown",
   "metadata": {
    "id": "J1visDOxOoHD"
   },
   "source": [
    "> if today is satarday then print 'Party !!!' or if sunday print take rest other wise print work , work, work"
   ]
  },
  {
   "cell_type": "code",
   "execution_count": 12,
   "metadata": {
    "colab": {
     "base_uri": "https://localhost:8080/"
    },
    "id": "isOLVxyqOoHE",
    "outputId": "c45d2c3f-2421-496c-9eba-8118062b8054"
   },
   "outputs": [
    {
     "name": "stdout",
     "output_type": "stream",
     "text": [
      "Enter the day of the week: saturday\n",
      "Today is : Saturday \n",
      "Party!!!!!!\n"
     ]
    }
   ],
   "source": [
    "#CODE HERE\n",
    "day_of_the_week=input('Enter the day of the week: ').strip()\n",
    "day_of_the_week=day_of_the_week.capitalize()\n",
    "if day_of_the_week == 'Saturday':\n",
    "  print('Today is : {} \\nParty!!!!!!'.format(day_of_the_week), )\n",
    "elif day_of_the_week=='Sunday':\n",
    "  print('Today is: {} \\nTake rest'.format(day_of_the_week))\n",
    "else:\n",
    "  print('Today is: {}\\nWork Work Work!!!!'.format(day_of_the_week))"
   ]
  },
  {
   "cell_type": "markdown",
   "metadata": {
    "id": "-b40bjFYOoHG"
   },
   "source": [
    "\n",
    "\n",
    "> Write a program which will find all such numbers which are divisible by 7 but are not a multiple of 5, between 2000 and 3200 (both included). The numbers obtained should be printed in a comma-separated sequence on a single line."
   ]
  },
  {
   "cell_type": "code",
   "execution_count": 15,
   "metadata": {
    "colab": {
     "base_uri": "https://localhost:8080/"
    },
    "id": "wLzJrrTaOoHH",
    "outputId": "9bca3f52-209a-43a1-a7ab-708f1c8c4947"
   },
   "outputs": [
    {
     "name": "stdout",
     "output_type": "stream",
     "text": [
      "2002 2009 2016 2023 2030 2037 2044 2051 2058 2065 2072 2079 2086 2093 2100 2107 2114 2121 2128 2135 2142 2149 2156 2163 2170 2177 2184 2191 2198 2205 2212 2219 2226 2233 2240 2247 2254 2261 2268 2275 2282 2289 2296 2303 2310 2317 2324 2331 2338 2345 2352 2359 2366 2373 2380 2387 2394 2401 2408 2415 2422 2429 2436 2443 2450 2457 2464 2471 2478 2485 2492 2499 2506 2513 2520 2527 2534 2541 2548 2555 2562 2569 2576 2583 2590 2597 2604 2611 2618 2625 2632 2639 2646 2653 2660 2667 2674 2681 2688 2695 2702 2709 2716 2723 2730 2737 2744 2751 2758 2765 2772 2779 2786 2793 2800 2807 2814 2821 2828 2835 2842 2849 2856 2863 2870 2877 2884 2891 2898 2905 2912 2919 2926 2933 2940 2947 2954 2961 2968 2975 2982 2989 2996 3003 3010 3017 3024 3031 3038 3045 3052 3059 3066 3073 3080 3087 3094 3101 3108 3115 3122 3129 3136 3143 3150 3157 3164 3171 3178 3185 3192 3199 "
     ]
    }
   ],
   "source": [
    "#CODE HERE\n",
    "for i in range(2000,3201):\n",
    "  if i%7==0 and 1%5!=0:\n",
    "    print(i, end=' ')"
   ]
  },
  {
   "cell_type": "markdown",
   "metadata": {
    "id": "WWEm8vxZOoHL"
   },
   "source": [
    "> Write a program which can compute the factorial of a given numbers.\n",
    "The results should be printed in a comma-separated sequence on a single line.\n",
    "Suppose the following input is supplied to the program:\n",
    "8\n",
    "Then, the output should be:\n",
    "40320"
   ]
  },
  {
   "cell_type": "code",
   "execution_count": 23,
   "metadata": {
    "colab": {
     "base_uri": "https://localhost:8080/"
    },
    "id": "pEplCiDVOoHO",
    "outputId": "85b1c676-bb51-493a-97c3-4d81c8b5a875"
   },
   "outputs": [
    {
     "name": "stdout",
     "output_type": "stream",
     "text": [
      "Enter the value to compute the factorial: 3\n",
      "The factorial output is:  6\n"
     ]
    }
   ],
   "source": [
    "#CODE HERE\n",
    "number = int(input('Enter the value to compute the factorial: '))\n",
    "\n",
    "factorial= 1\n",
    "\n",
    "for i in range(1, number + 1):\n",
    "    factorial*= i\n",
    "\n",
    "print('The factorial output is: ', factorial)\n"
   ]
  },
  {
   "cell_type": "markdown",
   "metadata": {
    "id": "mEWmx1suOoHP"
   },
   "source": [
    "> With a given integral number n, write a program to generate a dictionary that contains (i, i*i) such that is an integral number between 1 and n (both included). and then the program should print the dictionary.\n",
    "Suppose the following input is supplied to the program:\n",
    "8\n",
    "Then, the output should be:\n",
    "{1: 1, 2: 4, 3: 9, 4: 16, 5: 25, 6: 36, 7: 49, 8: 64}\n",
    "\n",
    "*Hint* : use dict()"
   ]
  },
  {
   "cell_type": "code",
   "execution_count": 25,
   "metadata": {
    "colab": {
     "base_uri": "https://localhost:8080/"
    },
    "id": "tRA74lSnOoHQ",
    "outputId": "b91d309f-be57-431c-af8f-90a4a6c7f28a"
   },
   "outputs": [
    {
     "name": "stdout",
     "output_type": "stream",
     "text": [
      "Enter an integer number: 8\n",
      "{1: 1, 2: 4, 3: 9, 4: 16, 5: 25, 6: 36, 7: 49, 8: 64}\n"
     ]
    }
   ],
   "source": [
    "#CODE HERE\n",
    "n = int(input('Enter an integer number: '))\n",
    "dict = {}\n",
    "for i in range(1, n + 1):\n",
    "  dict[i] = i * i\n",
    "\n",
    "print(dict)\n"
   ]
  },
  {
   "cell_type": "markdown",
   "metadata": {
    "id": "loCONwZ3OoHR"
   },
   "source": [
    "> create user defined fuction for\n",
    "- addition \"add\"\n",
    "- subtraction \"sub\"\n",
    "- multiplication \"mul\"\n",
    "- division \"div\"\n",
    "- power \"pow\""
   ]
  },
  {
   "cell_type": "code",
   "execution_count": 28,
   "metadata": {
    "colab": {
     "base_uri": "https://localhost:8080/"
    },
    "id": "3mOxmIHkOoHS",
    "outputId": "5e1366b6-8916-4c40-9bdb-dd9b9bfbd80d"
   },
   "outputs": [
    {
     "name": "stdout",
     "output_type": "stream",
     "text": [
      "Enter the first value: 3\n",
      "Enter the second value: 4\n",
      "Enter the keyword from the follwing (add, sub, mul, div, pow): sub\n",
      "3-4 is -1\n"
     ]
    }
   ],
   "source": [
    "#CODE HERE\n",
    "value1 = int(input('Enter the first value: '))\n",
    "value2 = int(input('Enter the second value: '))\n",
    "operator = input('Enter the keyword from the follwing (add, sub, mul, div, pow): ').strip()\n",
    "\n",
    "if operator.lower() == 'add':\n",
    "  result = value1 + value2\n",
    "  print('{}+{} is {}'.format(value1,value2,result))\n",
    "elif operator.lower() == 'sub':\n",
    "  result = value1 - value2\n",
    "  print('{}-{} is {}'.format(value1,value2,result))\n",
    "elif operator.lower() == 'mul':\n",
    "  result = value1 * value2\n",
    "  print('{}*{} is {}'.format(value1,value2,result))\n",
    "elif operator.lower() == 'div':\n",
    "  result = value1 / value2\n",
    "  print('{}/{} is {}'.format(value1,value2,result))\n",
    "elif operator.lower() == 'pow':\n",
    "  result = value1 ** value2\n",
    "  print('{}**{} is {}'.format(value1,value2,result))\n",
    "else:\n",
    "  print('Invalid operation keyword')\n",
    "\n"
   ]
  },
  {
   "cell_type": "markdown",
   "metadata": {
    "id": "BVDyv-GsOoHT"
   },
   "source": [
    "3### Write a Python program that accepts a string and calculate the number of digits and letters.\n",
    "- Input\n",
    "\n",
    "    - Hello321Bye360\n",
    "- Output\n",
    "\n",
    "    - Digit - 6\n",
    "\n",
    "    - Letter - 8"
   ]
  },
  {
   "cell_type": "code",
   "execution_count": 31,
   "metadata": {
    "colab": {
     "base_uri": "https://localhost:8080/"
    },
    "id": "A8AztoAOhe_G",
    "outputId": "77d449f4-52ed-42d4-bc96-0fa8e75cae33"
   },
   "outputs": [
    {
     "name": "stdout",
     "output_type": "stream",
     "text": [
      "Enter a string: innomatics1231239746\n",
      "Digit:  10\n",
      "Letter:  10\n"
     ]
    }
   ],
   "source": [
    "input_string = input('Enter a string: ')\n",
    "\n",
    "digit_count = 0\n",
    "alpha_count = 0\n",
    "\n",
    "for i in input_string:\n",
    "  if i.isdigit():\n",
    "    digit_count += 1\n",
    "  elif i.isalpha():\n",
    "    alpha_count += 1\n",
    "\n",
    "print('Digit: ', digit_count)\n",
    "print('Letter: ', alpha_count)\n"
   ]
  },
  {
   "cell_type": "markdown",
   "metadata": {
    "id": "g4ZjUhv3OoHU"
   },
   "source": [
    "### With a given tuple (1,2,3,4,5,6,7,8,9,10), write a program to print the first half values in one line and the last half values in one line."
   ]
  },
  {
   "cell_type": "code",
   "execution_count": 42,
   "metadata": {
    "colab": {
     "base_uri": "https://localhost:8080/"
    },
    "id": "4TRqO7fni-i_",
    "outputId": "4f2beaaf-46b4-404b-99d2-b4b106276971"
   },
   "outputs": [
    {
     "name": "stdout",
     "output_type": "stream",
     "text": [
      "(1, 2, 3, 4, 5)\n",
      "(6, 7, 8, 9, 10)\n"
     ]
    }
   ],
   "source": [
    "given_tuple= (1, 2, 3, 4, 5, 6, 7, 8, 9, 10)\n",
    "\n",
    "mid_point = len(given_tuple) // 2\n",
    "\n",
    "first_half = given_tuple[:mid_point]\n",
    "last_half = given_tuple[mid_point:]\n",
    "\n",
    "print(first_half)\n",
    "print(last_half)\n"
   ]
  },
  {
   "cell_type": "code",
   "execution_count": null,
   "metadata": {
    "id": "lcO1ku2GOoHV",
    "outputId": "a03ffd64-0578-432f-d0d4-4d42c74d58f0"
   },
   "outputs": [
    {
     "name": "stdout",
     "output_type": "stream",
     "text": [
      "1 2 3 4 5 \n",
      "6 7 8 9 10 "
     ]
    }
   ],
   "source": [
    "# METHOD - 1\n"
   ]
  },
  {
   "cell_type": "code",
   "execution_count": 36,
   "metadata": {
    "colab": {
     "base_uri": "https://localhost:8080/"
    },
    "id": "gr56QjYzOoHW",
    "outputId": "8aa0e14c-cdc6-4a60-d5ce-28de6e5069c9"
   },
   "outputs": [
    {
     "name": "stdout",
     "output_type": "stream",
     "text": [
      "(1, 2, 3, 4, 5) (6, 7, 8, 9, 10)\n"
     ]
    }
   ],
   "source": [
    "# METHOD - 2\n",
    "print(first_half, last_half)"
   ]
  },
  {
   "cell_type": "code",
   "execution_count": 39,
   "metadata": {
    "colab": {
     "base_uri": "https://localhost:8080/"
    },
    "id": "50Rko8ViOoHX",
    "outputId": "531751d1-c2c4-4eca-d4e7-6edb05b0a140"
   },
   "outputs": [
    {
     "name": "stdout",
     "output_type": "stream",
     "text": [
      "[1, 2, 3, 4, 5]\n",
      "[6, 7, 8, 9, 10]\n"
     ]
    }
   ],
   "source": [
    "# METHOD - 3\n",
    "print(list(first_half))\n",
    "print(list(last_half))\n"
   ]
  },
  {
   "cell_type": "markdown",
   "metadata": {
    "id": "AgPeLmzQOoHX"
   },
   "source": [
    "### Write a program to generate and print another tuple whose values are even numbers in the given tuple (1,2,3,4,5,6,7,8,9,10)"
   ]
  },
  {
   "cell_type": "code",
   "execution_count": 1,
   "metadata": {
    "colab": {
     "base_uri": "https://localhost:8080/"
    },
    "id": "Z81AYmb8OoHY",
    "outputId": "8f722ec0-c403-4be7-d6ba-a768f6d1c872"
   },
   "outputs": [
    {
     "name": "stdout",
     "output_type": "stream",
     "text": [
      "(2, 4, 6, 8, 10)\n"
     ]
    }
   ],
   "source": [
    "tuple1 = (1, 2, 3, 4, 5, 6, 7, 8, 9, 10)\n",
    "\n",
    "even_list = []\n",
    "\n",
    "for i in tuple1:\n",
    "  if i % 2 == 0:\n",
    "    even_list.append(i)\n",
    "\n",
    "even_tuple = tuple(even_list)\n",
    "\n",
    "print(even_tuple)\n"
   ]
  },
  {
   "cell_type": "markdown",
   "metadata": {
    "id": "Lt1imN4fOoHZ"
   },
   "source": [
    "### Write a program which accepts a string as input to print \"Yes\" if the string is \"yes\" or \"YES\" or \"Yes\", otherwise print \"No\""
   ]
  },
  {
   "cell_type": "code",
   "execution_count": 2,
   "metadata": {
    "colab": {
     "base_uri": "https://localhost:8080/"
    },
    "id": "xUePiudTOoHZ",
    "outputId": "5cfdbb85-81e7-45ca-b032-575868db91a9"
   },
   "outputs": [
    {
     "name": "stdout",
     "output_type": "stream",
     "text": [
      "Please type something. --> yes\n",
      "Yes\n"
     ]
    }
   ],
   "source": [
    "text = input(\"Please type something. --> \").strip()\n",
    "\n",
    "if text.lower() == 'yes':\n",
    "    print('Yes')\n",
    "else:\n",
    "    print('No')\n"
   ]
  },
  {
   "cell_type": "markdown",
   "metadata": {
    "id": "JwmAKd87OoHb"
   },
   "source": [
    "### Please write a program to generate a list with 5 random numbers between 100 and 200 inclusive."
   ]
  },
  {
   "cell_type": "code",
   "execution_count": 3,
   "metadata": {
    "colab": {
     "base_uri": "https://localhost:8080/"
    },
    "id": "Q9-8TiuFOoHb",
    "outputId": "75873445-4bff-49c9-f1eb-a3846176f880"
   },
   "outputs": [
    {
     "name": "stdout",
     "output_type": "stream",
     "text": [
      "[123, 175, 156, 119, 109]\n"
     ]
    }
   ],
   "source": [
    "import random\n",
    "\n",
    "random_numbers = [random.randint(100, 200) for _ in range(5)]\n",
    "\n",
    "print(random_numbers)\n"
   ]
  },
  {
   "cell_type": "markdown",
   "metadata": {
    "id": "YkNw0JUrOoHc"
   },
   "source": [
    "### Please generate a random float where the value is between 5 and 95 using Python module."
   ]
  },
  {
   "cell_type": "code",
   "execution_count": 4,
   "metadata": {
    "colab": {
     "base_uri": "https://localhost:8080/"
    },
    "id": "49j5PMbBOoHc",
    "outputId": "43eda01d-2802-476c-d75f-b0e1895a1c87"
   },
   "outputs": [
    {
     "name": "stdout",
     "output_type": "stream",
     "text": [
      "47.01820866097753\n"
     ]
    }
   ],
   "source": [
    "import random\n",
    "\n",
    "random_float = random.uniform(5, 95)\n",
    "\n",
    "print(random_float)\n"
   ]
  },
  {
   "cell_type": "markdown",
   "metadata": {
    "id": "tkrLRZm9OoHd"
   },
   "source": [
    "### [1,1,1,1,3,3,4,4,4,5,6,7,8,8,8]\n",
    "#### 1. from the above list print the uniques values\n",
    "#### 2. count how many times each number exist\n",
    "#### 3. Print the number which is occured more number of times"
   ]
  },
  {
   "cell_type": "code",
   "execution_count": 6,
   "metadata": {
    "colab": {
     "base_uri": "https://localhost:8080/"
    },
    "id": "2ENrgA1GOoHd",
    "outputId": "33706c53-e0f1-487a-c96a-1c266dc8bcbc"
   },
   "outputs": [
    {
     "name": "stdout",
     "output_type": "stream",
     "text": [
      "Unique values: [1, 3, 4, 5, 6, 7, 8]\n"
     ]
    }
   ],
   "source": [
    "numbers = [1, 1, 1, 1, 3, 3, 4, 4, 4, 5, 6, 7, 8, 8, 8]\n",
    "\n",
    "unique_values = []\n",
    "for num in numbers:\n",
    "  if num not in unique_values:\n",
    "    unique_values.append(num)\n",
    "print(\"Unique values:\", unique_values)\n"
   ]
  },
  {
   "cell_type": "code",
   "execution_count": 7,
   "metadata": {
    "colab": {
     "base_uri": "https://localhost:8080/"
    },
    "id": "Er7ISlI5OoHd",
    "outputId": "3b265dd4-3a9f-4077-838b-065b44613dbb"
   },
   "outputs": [
    {
     "name": "stdout",
     "output_type": "stream",
     "text": [
      "Counts: {1: 4, 3: 2, 4: 3, 5: 1, 6: 1, 7: 1, 8: 3}\n"
     ]
    }
   ],
   "source": [
    "counts = {}\n",
    "for num in numbers:\n",
    "  if num in counts:\n",
    "    counts[num] += 1\n",
    "  else:\n",
    "    counts[num] = 1\n",
    "print(\"Counts:\", counts)\n"
   ]
  },
  {
   "cell_type": "code",
   "execution_count": 9,
   "metadata": {
    "colab": {
     "base_uri": "https://localhost:8080/"
    },
    "id": "ETSh-CMrOoHe",
    "outputId": "1ea14380-cd0b-4808-8052-30352ecde125"
   },
   "outputs": [
    {
     "name": "stdout",
     "output_type": "stream",
     "text": [
      "The number 1 occurs the most with 4 occurrences.\n"
     ]
    }
   ],
   "source": [
    "most_common_num = None\n",
    "max_count = 0\n",
    "for num, count in counts.items():\n",
    "    if count > max_count:\n",
    "        max_count = count\n",
    "        most_common_num = num\n",
    "print(f\"The number {most_common_num} occurs the most with {max_count} occurrences.\")\n"
   ]
  },
  {
   "cell_type": "markdown",
   "metadata": {
    "id": "JCQGEH4AOoHe"
   },
   "source": [
    "# [Innomatics Research Labs](https:/innomatics.in/)\n",
    "[www.innomatics.in](https:/innomatics.in/)"
   ]
  },
  {
   "cell_type": "code",
   "execution_count": null,
   "metadata": {
    "id": "QM6uPuGTOoHh"
   },
   "outputs": [],
   "source": []
  }
 ],
 "metadata": {
  "colab": {
   "provenance": []
  },
  "kernelspec": {
   "display_name": "Python 3 (ipykernel)",
   "language": "python",
   "name": "python3"
  },
  "language_info": {
   "codemirror_mode": {
    "name": "ipython",
    "version": 3
   },
   "file_extension": ".py",
   "mimetype": "text/x-python",
   "name": "python",
   "nbconvert_exporter": "python",
   "pygments_lexer": "ipython3",
   "version": "3.9.7"
  }
 },
 "nbformat": 4,
 "nbformat_minor": 1
}
